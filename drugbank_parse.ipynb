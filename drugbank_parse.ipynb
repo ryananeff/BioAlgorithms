{
 "cells": [
  {
   "cell_type": "code",
   "execution_count": 2,
   "metadata": {},
   "outputs": [
    {
     "name": "stdout",
     "output_type": "stream",
     "text": [
      "Collecting xmlschema\n",
      "\u001b[?25l  Downloading https://files.pythonhosted.org/packages/bb/23/ad84299c91b614b04c6d89f237053453c5a0dd9760dd3f40232040a53d84/xmlschema-1.0.10-py2.py3-none-any.whl (305kB)\n",
      "\u001b[K    100% |████████████████████████████████| 307kB 6.0MB/s ta 0:00:01\n",
      "\u001b[?25hCollecting elementpath~=1.1.5 (from xmlschema)\n",
      "\u001b[?25l  Downloading https://files.pythonhosted.org/packages/83/1c/08a4c1cd9db23bd5c0ac1cf9b0874d4393040b6cab852f866248212c37a8/elementpath-1.1.5-py2.py3-none-any.whl (62kB)\n",
      "\u001b[K    100% |████████████████████████████████| 71kB 10.9MB/s ta 0:00:01\n",
      "\u001b[?25hInstalling collected packages: elementpath, xmlschema\n",
      "Successfully installed elementpath-1.1.5 xmlschema-1.0.10\n",
      "\u001b[33mYou are using pip version 18.0, however version 19.0.3 is available.\n",
      "You should consider upgrading via the 'pip install --upgrade pip' command.\u001b[0m\n"
     ]
    }
   ],
   "source": [
    "!pip install xmlschema"
   ]
  },
  {
   "cell_type": "code",
   "execution_count": 11,
   "metadata": {},
   "outputs": [],
   "source": [
    "import xmlschema\n",
    "from pprint import pprint\n",
    "xs = xmlschema.XMLSchema('/Users/ryanneff/drugbank.xsd')\n"
   ]
  },
  {
   "cell_type": "code",
   "execution_count": 9,
   "metadata": {},
   "outputs": [
    {
     "data": {
      "text/plain": [
       "False"
      ]
     },
     "execution_count": 9,
     "metadata": {},
     "output_type": "execute_result"
    }
   ],
   "source": [
    "xs.is_valid(\"/Users/ryanneff/full_database.xml\")"
   ]
  },
  {
   "cell_type": "markdown",
   "metadata": {},
   "source": [
    "```line 260:\n",
    "            <xs:element maxOccurs=\"1\" minOccurs=\"0\" name=\"attachments\" type=\"attachment-list-type\"/>\n",
    "```"
   ]
  },
  {
   "cell_type": "code",
   "execution_count": null,
   "metadata": {
    "scrolled": false
   },
   "outputs": [],
   "source": [
    "database_dict = xs.to_dict(\"/Users/ryanneff/full_database.xml\")"
   ]
  }
 ],
 "metadata": {
  "kernelspec": {
   "display_name": "Python 3",
   "language": "python",
   "name": "python3"
  },
  "language_info": {
   "codemirror_mode": {
    "name": "ipython",
    "version": 3
   },
   "file_extension": ".py",
   "mimetype": "text/x-python",
   "name": "python",
   "nbconvert_exporter": "python",
   "pygments_lexer": "ipython3",
   "version": "3.6.8"
  }
 },
 "nbformat": 4,
 "nbformat_minor": 2
}
