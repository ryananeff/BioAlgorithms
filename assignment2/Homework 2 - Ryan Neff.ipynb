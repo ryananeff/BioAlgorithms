{
 "cells": [
  {
   "cell_type": "markdown",
   "metadata": {},
   "source": [
    "# Assignment 2\n",
    "Or *'How I Learned to Start Worrying and Shoot, It's Fluids Again'*\n",
    "\n",
    "BMI 2005  \n",
    "Due: 2/13/2019\n",
    "\n",
    "By: **Ryan Neff**  \n",
    "ryan.neff@icahn.mssm.edu"
   ]
  },
  {
   "cell_type": "markdown",
   "metadata": {},
   "source": [
    "## Problem 1\n",
    "\n",
    "As we discussed in class, simulation of a “real” liquid, such as a box of non-bonded particles at a given temperature and pressure, requires consideration of so-called periodic boundary conditions. In our simulation, we will assume the center of the box is at position `0,0,0` and that the initial vectors describing the extent of the box are equal (e.g., this box is a square!).   \n",
    "\n",
    "Attached to this homework is a new `XYZ` file defining a box of 200 Lennard-Jones particles. The boundary vector for this box for a reasonable box temperature and pressure (we’ll get there later, don’t worry about this yet...) is **`3.21829795`**. The total length of the box is twice the vector length in each dimension, so this box is **`6.4365959`** in length in each dimension (x, y, and z).   "
   ]
  },
  {
   "cell_type": "markdown",
   "metadata": {},
   "source": [
    "### Problem 1a\n",
    "\n",
    "Implement a new total LJ potential function (as you did for problem 4(a) in the previous homework) which includes consideration of a periodic boundary, and compute the total potential for the system in the supplied new `XYZ` file (`lj-0200-liquid.xyz`).   \n",
    "\n",
    "This will require you to correct the distance between atoms in each dimension. You may in the previous homework have written something like the following, which computes the distance based on the vector norm between the `x`, `y`, and `z` positions of two atoms, and the conditional defining your cutoff distance:\n",
    "\n",
    "```\n",
    "def distance(a, b):\n",
    "    return np.linalg.norm(a - b)\n",
    "\n",
    "def V_ij(r):\n",
    "    return 4 *((1/r)**12 - (1/r)**6)\n",
    "\n",
    "def lj_cut(atoms, r_cut): \n",
    "    n_atoms = a.shape[0] \n",
    "    LJ_potential = 0.0\n",
    "    for i in range(n_atoms):\n",
    "        for j in range(i + 1, n_atoms): \n",
    "            r = distance(a[i], a[j])\n",
    "            if r < r_cut:\n",
    "                LJ_potential += V_ij(r) \n",
    "    return LJ_potential\n",
    "```\n",
    "\n",
    "Because you will need to correct the distance between atoms in each dimension, based on the periodicity of the system, this approach will not quite work: you will need to consider the distance in each dimension between the two particles in your double loop. In this case, it is easiest to consider the square euclidian distance, because it allows you to easily accumulate the distance in each dimension and then simply take a square root at the end. E.g.,\n",
    "\n",
    "$d^2(p,q) = (p_1-q_1)^2 + (p_2-q_2)^2 + ... + (p_i-q_i)^2 + ... + (p_n-q_n)^2$\n",
    "\n",
    "In pseudowords, a good approach to this is the following:\n",
    "\n",
    "```\n",
    "for each atom i in the system\n",
    "    for each pairwise interaction atom j\n",
    "        square_distance ← 0.0 \n",
    "        for each dim\n",
    "            distance_in_dim ← a[i][dim] - a[j][dim] \n",
    "            distance_in_dim -= boundary_length[dim] * \\\n",
    "                round(distance_in_dim / boundary_length[dim]) \n",
    "            square_distance += distance_in_dim ** 2\n",
    "        distance = sqrt(square_distance) \n",
    "        if (distance < cutoff...)...\n",
    "```\n",
    "\n",
    "Where `distance_in_dim` is modified using the supplied function."
   ]
  },
  {
   "cell_type": "code",
   "execution_count": 53,
   "metadata": {},
   "outputs": [],
   "source": [
    "import numpy as np\n",
    "import re\n",
    "\n",
    "def read_xyz(input_filename):\n",
    "    '''read_xyz(input_filename)\n",
    "    Reads an XYZ file to a numpy float32 array.\n",
    "\n",
    "    Inputs:\n",
    "        input_filename\n",
    "            Filename of XYZ file on disk. \n",
    "\n",
    "            File format: \n",
    "                line 1: <number of atoms / lines>\n",
    "                line2: <comment>\n",
    "                line 3+: <atom type> <x> <y> <z>\n",
    "    \n",
    "    Returns: \n",
    "        output\n",
    "            Array of 3D positions of atoms in file. \n",
    "    '''\n",
    "\n",
    "    number_of_atoms, comment, output = None, None, []\n",
    "    with open(input_filename,\"r\") as fp:\n",
    "        for line in fp:\n",
    "            line = line.strip() #clean input\n",
    "            if number_of_atoms == None:\n",
    "                number_of_atoms = int(line)\n",
    "            elif comment == None:\n",
    "                comment = line\n",
    "            else:\n",
    "                splitline = [float(a) for a in re.split(\" +\",line)[1:]]\n",
    "                output.append(splitline)\n",
    "    output = np.array(output,dtype=\"float32\")\n",
    "    return output\n",
    "\n",
    "def V_ij(r):\n",
    "    '''V_ij(r)\n",
    "     Computes the potential energy V_ij between two atoms i and j\n",
    "     with distance r where e and s are set to 1\n",
    "\n",
    "     Inputs: \n",
    "        r (float)\n",
    "            Distance between two atoms i and j\n",
    "    \n",
    "    Outputs:\n",
    "        V_ij (float)\n",
    "            Potential energy between two atoms\n",
    "    '''\n",
    "    return 4 *((1/r)**12 - (1/r)**6)\n",
    "\n",
    "def LJ_potential(atoms,boundary_length=[6.4365959]*(3), cutoff=False):\n",
    "    '''LJ_potential(atoms,boundary_length=[6.4365959]*(3), cutoff=False)\n",
    "    Calculates the energy potential of the system for a set of atoms \n",
    "    based on N-dimensional coordinates, using the LJ potential equation. \n",
    "    \n",
    "    Inputs: \n",
    "        atoms\n",
    "            An array atoms, with each atom being a row of\n",
    "            n-dimensions with position information.\n",
    "        boundary_length\n",
    "            The boundary distance vector over some periodic interaction\n",
    "            function occurs.\n",
    "        cutoff\n",
    "            Whether a cutoff distance exists to consider interactions is set. \n",
    "            Either False or a number indicating the cutoff distance.\n",
    "    \n",
    "    Returns:\n",
    "        total_energy (float)\n",
    "            The total energy of the system.\n",
    "    '''\n",
    "    total_energy = 0\n",
    "    dimensions = range(0,len(atoms[0]))\n",
    "    for atom1 in range(0,len(atoms)):\n",
    "        for atom2 in range(atom1+1,len(atoms)):\n",
    "            square_dist = 0\n",
    "            for dim in dimensions:\n",
    "                dist_in_dim = atoms[atom1,dim] - atoms[atom2,dim]\n",
    "                dist_in_dim -= boundary_length[dim] * round(dist_in_dim/boundary_length[dim]) ##??\n",
    "                dist_in_dim = dist_in_dim\n",
    "                square_dist += dist_in_dim**2\n",
    "            distance = np.sqrt(square_dist)\n",
    "            if cutoff:\n",
    "                if distance < cutoff: \n",
    "                    total_energy += V_ij(distance)\n",
    "            else:\n",
    "                total_energy += V_ij(distance)\n",
    "    return total_energy"
   ]
  },
  {
   "cell_type": "code",
   "execution_count": 56,
   "metadata": {},
   "outputs": [
    {
     "data": {
      "text/plain": [
       "-1002.2429537424274"
      ]
     },
     "execution_count": 56,
     "metadata": {},
     "output_type": "execute_result"
    }
   ],
   "source": [
    "LJ_potential(read_xyz(\"lj-0200-liquid.xyz\"))"
   ]
  },
  {
   "cell_type": "markdown",
   "metadata": {},
   "source": [
    "### Problem 1b\n",
    "\n",
    "Compute the new potential energy for the system using your new function and a\n",
    "cutoff value of 2.0. Report the value."
   ]
  },
  {
   "cell_type": "code",
   "execution_count": 102,
   "metadata": {},
   "outputs": [
    {
     "data": {
      "text/plain": [
       "-862.15524954568468"
      ]
     },
     "execution_count": 102,
     "metadata": {},
     "output_type": "execute_result"
    }
   ],
   "source": [
    "LJ_potential(read_xyz(\"lj-0200-liquid.xyz\"), cutoff=2.0)"
   ]
  },
  {
   "cell_type": "markdown",
   "metadata": {},
   "source": [
    "## Problem 2\n",
    "\n",
    "We discussed two methods of list construction, the Verlet list, and the cell list, which can be implemented by an elementary hash table, and a linked list, respectively."
   ]
  },
  {
   "cell_type": "markdown",
   "metadata": {},
   "source": [
    "<img src=\"https://i.imgur.com/bA3ogu4.png\" width=300>\n",
    "\n",
    "### Problem 2b\n",
    "\n",
    "First, we will implement a static Verlet list and rewrite our potential energy function once again to accommodate this new data structure. Constructing the list involves looping over all atom pairs, determining which pairs are within the cutoff + sheath distance, and constructing two arrays: a lookup table, where the location of pair information can be found for each atom, and a value table, where all pair atoms are found. The number of pairwise interactions per atom can be determined purely by the values in the lookup table, by comparing the position in the value table for the current and next atom.\n",
    "\n",
    "Just like our previous attempt at a new potential function, periodicity must be considered. A pseudoword attempt at the list function might look like, for a cutoff of 2.0 and a sheath of 0.3:\n",
    "\n",
    "```\n",
    "cutoff ← 2.0\n",
    "sheath ← 0.3\n",
    "cutoff_plus_sheath ← cutoff + sheath\n",
    "lookup ← empty numpy array of integers, length n_atoms \n",
    "value ← unknown length, placeholder array\n",
    "pair_counter ← 0\n",
    "for each atom i in the system\n",
    "    for each pairwise interaction atom j \n",
    "        square_distance ← 0.0\n",
    "        for each dim\n",
    "            distance_in_dim ← a[i][dim] - a[j][dim] \n",
    "            distance_in_dim -= boundary_length[dim] * \\\n",
    "                round(distance / boundary_length[dim]) square_distance += distance_in_dim ** 2\n",
    "            square_distance += distance\n",
    "        distance = sqrt(square_distance) \n",
    "        if (distance < cutoff_plus_sheath)\n",
    "            pair_counter ← pair_counter + 1\n",
    "            value ← push pair index j onto array \n",
    "        lookup[i] ← pair_counter\n",
    "```"
   ]
  },
  {
   "cell_type": "code",
   "execution_count": 98,
   "metadata": {
    "collapsed": true
   },
   "outputs": [],
   "source": [
    "def calculate_pairs_verlet(atoms, boundary_length = [6.4365959]*(3), cutoff=2.0, sheath=0.3):\n",
    "    '''calculate_pairs_verlet(atoms, cutoff=2.0, sheath=0.3)\n",
    "    Calculates which atoms interact in a set of atoms based on their \n",
    "    N-dimensional coordinates. This function implements this via use \n",
    "    of a Verlet list.\n",
    "    \n",
    "    Inputs: \n",
    "        atoms\n",
    "            A numpy array of atoms, with each atom being a row of\n",
    "            n-dimensions with position information.\n",
    "        boundary_length\n",
    "            The boundary distance box over which some periodic \n",
    "            interaction function occurs. Default = [6.4365959]*(3).\n",
    "        cutoff\n",
    "            The cutoff distance to consider interactions is set, \n",
    "            as a number. Default = 2.0.\n",
    "        sheath\n",
    "            The sheath distance within to consider interactions.\n",
    "            Default = 0.3.\n",
    "    \n",
    "    Returns:\n",
    "        lookup\n",
    "            lookup table for verlet list\n",
    "        value\n",
    "            value table for verlet list\n",
    "    '''\n",
    "    total_energy = 0\n",
    "    dimensions = range(0,len(atoms[0]))\n",
    "    cutoff_plus_sheath = cutoff + sheath\n",
    "    lookup = [0]*(len(atoms))\n",
    "    value = []\n",
    "    pair_counter = 0\n",
    "    for atom1 in range(0,len(atoms)):\n",
    "        lookup[atom1] = pair_counter ## this needs to be initialized in the beginning, not the end\n",
    "        for atom2 in range(atom1+1,len(atoms)):\n",
    "            square_dist = 0\n",
    "            for dim in dimensions:\n",
    "                dist_in_dim = atoms[atom1,dim] - atoms[atom2,dim]\n",
    "                dist_in_dim -= boundary_length[dim] * round(dist_in_dim/boundary_length[dim]) ##??\n",
    "                dist_in_dim = dist_in_dim\n",
    "                square_dist += dist_in_dim**2\n",
    "            distance = np.sqrt(square_dist)\n",
    "            if distance < cutoff_plus_sheath: \n",
    "                pair_counter += 1\n",
    "                value.append(atom2) #why not save a lot of time here?\n",
    "    return lookup,value"
   ]
  },
  {
   "cell_type": "markdown",
   "metadata": {},
   "source": [
    "### Problem 2b\n",
    "\n",
    "After implementing the above pairwise function to generate a Verlet list, implement a total potential energy function that takes as input both arrays in the Verlet list, with appropriate control logic to only include those atoms within the cutoff but not within the sheath. Argue for why the complexity of this function is now O(N)."
   ]
  },
  {
   "cell_type": "code",
   "execution_count": 99,
   "metadata": {},
   "outputs": [],
   "source": [
    "def LJ_potential_verlet(atoms,lookup_value, boundary_length = [6.4365959]*(3), cutoff=2):\n",
    "    '''\n",
    "    Inputs:\n",
    "        lookup_value\n",
    "            Tuple of (lookup, value) from calculate_pairs_verlet().\n",
    "        cutoff\n",
    "            The cutoff distance to consider interactions is set, \n",
    "            as a number. Default = 2.0.\n",
    "    Returns: \n",
    "        total_energy (float)\n",
    "            The total energy of the system.\n",
    "    '''\n",
    "    lookup, value = lookup_value\n",
    "    total_energy = 0\n",
    "    dimensions = range(0,len(atoms[0]))\n",
    "    for atom1 in range(0,len(lookup)):\n",
    "        start = lookup[atom1]\n",
    "        end = lookup[atom1+1] if atom1 < (len(lookup)-1) else len(value)\n",
    "        pair_atoms = value[start:end]\n",
    "        for atom2 in pair_atoms:\n",
    "            square_dist = 0\n",
    "            for dim in dimensions:\n",
    "                dist_in_dim = atoms[atom1,dim] - atoms[atom2,dim]\n",
    "                dist_in_dim -= boundary_length[dim] * round(dist_in_dim/boundary_length[dim]) ##??\n",
    "                dist_in_dim = dist_in_dim\n",
    "                square_dist += dist_in_dim**2\n",
    "            distance = np.sqrt(square_dist)\n",
    "            if distance==0: raise\n",
    "            if distance < cutoff:\n",
    "                total_energy += V_ij(distance)\n",
    "    return total_energy"
   ]
  },
  {
   "cell_type": "code",
   "execution_count": 103,
   "metadata": {},
   "outputs": [
    {
     "data": {
      "text/plain": [
       "-862.15524954568468"
      ]
     },
     "execution_count": 103,
     "metadata": {},
     "output_type": "execute_result"
    }
   ],
   "source": [
    "atoms = read_xyz(\"lj-0200-liquid.xyz\")\n",
    "LJ_potential_verlet(atoms, calculate_pairs_verlet(atoms))"
   ]
  },
  {
   "cell_type": "markdown",
   "metadata": {},
   "source": [
    "The complexity of this function is now $O(n)$ because we assume that each atom only has a limited number of interaction pairs (say, $10$ on average) and therefore, we are only iterating over $N*10$ atoms on average, even if the number of atoms becomes very large."
   ]
  },
  {
   "cell_type": "markdown",
   "metadata": {},
   "source": [
    "## Problem 3\n",
    "\n",
    "Now we will tackle the linked cell formulation, which is the first method we will cover to transform this problem into a true linear or logarithmetic problem. We will start with a very simple implementation of the cell list method, simply creating an appropriate set of linked lists, and continue to improve on our implementation with time once we start actually moving atoms in the simulation."
   ]
  },
  {
   "cell_type": "markdown",
   "metadata": {},
   "source": [
    "### Problem 3a\n",
    "\n",
    "Given a fixed box length of 6.4365959 in all directions, and a cutoff of 2.0, what would be an appropriate size for a cell-based domain decomposition of this box? Why? (Hint: we covered this in the 4th week of class).\n",
    "\n",
    "Answer: We would split up the box into a $3*3*3$ set of cells, so that all of the interactions (and the sheath) will almost all nicely fit within the box. "
   ]
  },
  {
   "cell_type": "markdown",
   "metadata": {},
   "source": [
    "### Problem 3b\n",
    "\n",
    "Create an array of linked lists for a 3x3x3 (27 lists) decomposition of the array. How you index the position of each cell is up to you, but you need to know which area of the box each cell represents! Each node in each of the linked list should contain at a minimum a index value (the index of the atom) and a pointer to next."
   ]
  },
  {
   "cell_type": "code",
   "execution_count": null,
   "metadata": {
    "collapsed": true
   },
   "outputs": [],
   "source": []
  }
 ],
 "metadata": {
  "kernelspec": {
   "display_name": "Python 3",
   "language": "python",
   "name": "python3"
  },
  "language_info": {
   "codemirror_mode": {
    "name": "ipython",
    "version": 3
   },
   "file_extension": ".py",
   "mimetype": "text/x-python",
   "name": "python",
   "nbconvert_exporter": "python",
   "pygments_lexer": "ipython3",
   "version": "3.6.8"
  }
 },
 "nbformat": 4,
 "nbformat_minor": 2
}
