{
 "cells": [
  {
   "cell_type": "markdown",
   "metadata": {},
   "source": [
    "# Assignment 1\n",
    "BMI 2005 - BioAlgorithms  \n",
    "Due: 01/30/19 \n",
    "\n",
    "By: **Ryan Neff**  \n",
    "ryan.neff@icahn.mssm.edu   "
   ]
  },
  {
   "cell_type": "markdown",
   "metadata": {},
   "source": [
    "# Question 1\n",
    "\n",
    "Lennard Jones potential (LJ) function: \n",
    "\n",
    "\\begin{align}\n",
    "V_{lj} = 4*\\epsilon*((\\frac{\\sigma}{r})^{12} - (\\frac{\\sigma}{r})^{6}) \\\\\n",
    "\\end{align}\n",
    "\n",
    "Where:  \n",
    "* episilon, e: depth of potential well (strength of non-bonded attraction between two atoms)  \n",
    "* sigma, s: distance at which inter-particle potential is 0  \n",
    "* distance, r: distance between particles "
   ]
  },
  {
   "cell_type": "markdown",
   "metadata": {},
   "source": [
    "### Question 1a #####"
   ]
  },
  {
   "cell_type": "code",
   "execution_count": 2,
   "metadata": {
    "collapsed": true
   },
   "outputs": [],
   "source": [
    "def naive_lennard_jones(r,s=1,e=1):\n",
    "    '''naive_lennard_jones(r)\n",
    "     Computes the potential energy V_ij between two atoms i and j\n",
    "     with distance r where e and s are set to 1\n",
    "\n",
    "     Inputs: \n",
    "        r (float)\n",
    "            Distance between two atoms i and j\n",
    "    \n",
    "    Outputs:\n",
    "        V_ij (float)\n",
    "            Potential energy between two atoms\n",
    "    '''\n",
    "    return 4*s*e*(s**12/r**12 - s**6/r**6)"
   ]
  },
  {
   "cell_type": "markdown",
   "metadata": {},
   "source": [
    "###### Question 1b #####\n",
    "`\n",
    "efficient algorithm equation:\n",
    "    V_ij = -4*e*u(1-u)\n",
    "substitute z**3 for u:\n",
    "    V_ij = -4*e*z^3(1-z^3)\n",
    "substitute s^2/r^2 for z:\n",
    "    V_ij = -4*e*(s^2/r^2)^3(1-(s^2/r^2)^3)\n",
    "distribute powers:\n",
    "    V_ij = -4*e*(s^6/r^6)(1-(s^6/r^6))\n",
    "move s^6/r^6 to inside parenthesis:\n",
    "    V_ij = -4*e*((s^6/r^6)*1 - (s^6/r^6)*(s^6/r^6))\n",
    "distribute powers: \n",
    "    V_ij = -4*e*((s^6/r^6) - (s^12/r^12))\n",
    "move -1 to inside parenthesis:\n",
    "    V_ij = 4*e*(-(s^6/r^6) + (s^12/r^12))\n",
    "    V_ij = 4*e*((s^12/r^12)-(s^6/r^6))\n",
    "Let x^z/y^z = (x/y)^z.\n",
    "    therefore:\n",
    "        V_ij = 4*e*((s/r)^12-(s/r)^6)\n",
    "***This is the original equation. QED***\n",
    "`"
   ]
  },
  {
   "cell_type": "markdown",
   "metadata": {},
   "source": [
    "### Question 1c #####"
   ]
  },
  {
   "cell_type": "code",
   "execution_count": 4,
   "metadata": {
    "collapsed": true
   },
   "outputs": [],
   "source": [
    "def efficient_lennard_jones(r,s,e):\n",
    "    '''efficient_lennard_jones(r,s,e)\n",
    "     Computes the potential energy V_ij between two atoms i and j\n",
    "\n",
    "     Inputs: \n",
    "        r (float)\n",
    "            Distance between two atoms i and j\n",
    "        s (float)\n",
    "            Sigma, distance at which inter-particle potential is 0\n",
    "        e (float)\n",
    "            Epsilon, strength of non-bonded attraction between two atoms\n",
    "    \n",
    "    Outputs:\n",
    "        V_ij (float)\n",
    "            Potential energy between two atoms\n",
    "    '''\n",
    "\n",
    "    r2 = r**2\n",
    "    s2 = s**2\n",
    "    z = s2/r2\n",
    "    u = z**3\n",
    "    return -4*e*u*(1-u)"
   ]
  },
  {
   "cell_type": "markdown",
   "metadata": {},
   "source": [
    "## Performance Analysis ##\n",
    "```\n",
    "naive:  \n",
    "    code:  \n",
    "        return 4*s*e*(s**12/r**12 - s**6/r**6)    \n",
    "\n",
    "    First step: r**12\n",
    "    Second step: s**12  \n",
    "    Third step: s**12/r**12  \n",
    "    Fourth step: r**6  \n",
    "    Fifth step: s**6  \n",
    "    Sixth step: s**6/r**6  \n",
    "    Seventh step: s**12/r**12-s**6/r**6  \n",
    "    Eighth step: 4*s  \n",
    "    Ninth step: 4*s*e  \n",
    "    Tenth step: 4*s*e*(s**12/r**12-s**6/r**6)  \n",
    "\n",
    "    Total steps: 10\n",
    "    Performance: O(1) - constant time for constant input\n",
    "\n",
    "efficient:\n",
    "    code: \n",
    "        r2 = r**2\n",
    "        s2 = s**2\n",
    "        z = s2/r2\n",
    "        u = z**3\n",
    "        return -4*e*u*(1-u)\n",
    "\n",
    "    First step: r2 = r**2\n",
    "    Second step: s2 = s**2\n",
    "    Third step: z = s2/r2\n",
    "    Fourth step: u = z**3\n",
    "    Fifth step: 1-u\n",
    "    Sixth step: -4*e\n",
    "    Seventh step: (-4*e)*u\n",
    "    Eighth step: ((-4*e)*u)*(1-u)\n",
    "\n",
    "    Total steps: 8\n",
    "    Performance: O(1) - constant time for constant input\n",
    "```\n",
    "## Conclusion ##\n",
    "The efficient algorithm should be around 20% faster than the naive implementation, \n",
    "but both of them run in constant time."
   ]
  },
  {
   "cell_type": "markdown",
   "metadata": {},
   "source": [
    "### Question 1d #####"
   ]
  },
  {
   "cell_type": "code",
   "execution_count": 7,
   "metadata": {},
   "outputs": [
    {
     "name": "stdout",
     "output_type": "stream",
     "text": [
      "Naive implementation\n",
      "         1000003 function calls in 1.042 seconds\n",
      "\n",
      "   Ordered by: standard name\n",
      "\n",
      "   ncalls  tottime  percall  cumtime  percall filename:lineno(function)\n",
      "  1000000    0.826    0.000    0.826    0.000 <ipython-input-2-712c776f7e49>:1(naive_lennard_jones)\n",
      "        1    0.216    0.216    1.042    1.042 <string>:1(<module>)\n",
      "        1    0.000    0.000    1.042    1.042 {built-in method builtins.exec}\n",
      "        1    0.000    0.000    0.000    0.000 {method 'disable' of '_lsprof.Profiler' objects}\n",
      "\n",
      "\n",
      "Efficient implementation\n",
      "         1000003 function calls in 0.786 seconds\n",
      "\n",
      "   Ordered by: standard name\n",
      "\n",
      "   ncalls  tottime  percall  cumtime  percall filename:lineno(function)\n",
      "  1000000    0.576    0.000    0.576    0.000 <ipython-input-4-d30ff7ddce2a>:1(efficient_lennard_jones)\n",
      "        1    0.211    0.211    0.786    0.786 <string>:1(<module>)\n",
      "        1    0.000    0.000    0.786    0.786 {built-in method builtins.exec}\n",
      "        1    0.000    0.000    0.000    0.000 {method 'disable' of '_lsprof.Profiler' objects}\n",
      "\n",
      "\n"
     ]
    }
   ],
   "source": [
    "import cProfile\n",
    "print(\"Naive implementation\")\n",
    "cProfile.run('for i in range(0,1000000): naive_lennard_jones(2.5)') #naive\n",
    "print(\"Efficient implementation\")\n",
    "cProfile.run('for i in range(0,1000000): efficient_lennard_jones(2.5,1,1)') #efficient"
   ]
  },
  {
   "cell_type": "markdown",
   "metadata": {},
   "source": [
    "## Conclusion ##\n",
    "The efficient implementation is more efficient timewise. The efficient \n",
    "implementation has fewer operations because it only calculates the common factors for the \n",
    "fractions inside the parentheses (saving some work). This is reflected in the cProfile \n",
    "timings for 1M loop iterations."
   ]
  },
  {
   "cell_type": "markdown",
   "metadata": {},
   "source": [
    "# Question 2"
   ]
  },
  {
   "cell_type": "markdown",
   "metadata": {},
   "source": [
    "### Question 2a #####"
   ]
  },
  {
   "cell_type": "code",
   "execution_count": 8,
   "metadata": {},
   "outputs": [],
   "source": [
    "import numpy as np\n",
    "import re\n",
    "\n",
    "def read_xyz(input_filename):\n",
    "    '''read_xyz(input_filename)\n",
    "    Reads an XYZ file to a numpy float32 array.\n",
    "\n",
    "    Inputs:\n",
    "        input_filename\n",
    "            Filename of XYZ file on disk. \n",
    "\n",
    "            File format: \n",
    "                line 1: <number of atoms / lines>\n",
    "                line2: <comment>\n",
    "                line 3+: <atom type> <x> <y> <z>\n",
    "    \n",
    "    Returns: \n",
    "        output\n",
    "            Array of 3D positions of atoms in file. \n",
    "    '''\n",
    "\n",
    "    number_of_atoms, comment, output = None, None, []\n",
    "    with open(input_filename,\"r\") as fp:\n",
    "        for line in fp:\n",
    "            line = line.strip() #clean input\n",
    "            if number_of_atoms == None:\n",
    "                number_of_atoms = int(line)\n",
    "            elif comment == None:\n",
    "                comment = line\n",
    "            else:\n",
    "                splitline = [float(a) for a in re.split(\" +\",line)[1:]]\n",
    "                output.append(splitline)\n",
    "    output = np.array(output,dtype=\"float32\")\n",
    "    return output"
   ]
  },
  {
   "cell_type": "markdown",
   "metadata": {},
   "source": [
    "### Question 2b #####"
   ]
  },
  {
   "cell_type": "code",
   "execution_count": 23,
   "metadata": {},
   "outputs": [
    {
     "name": "stdout",
     "output_type": "stream",
     "text": [
      "[[ 0.53913569  0.11065882 -0.46356019]\n",
      " [-0.51850802  0.4850176   0.05370848]\n",
      " [ 0.07937232 -0.49567643  0.50985169]]\n"
     ]
    }
   ],
   "source": [
    "with open(\"lj-0003.xyz\",\"w\") as fp:\n",
    "    fp.write('''3\n",
    "Cambridge Cluster Database\n",
    "LJ 0.5391356726 0.1106588251 -0.4635601962\n",
    "LJ -0.5185079933 0.4850176090 0.0537084789\n",
    "LJ 0.0793723207 -0.4956764341 0.5098517173''')\n",
    "\n",
    "test_3 = read_xyz(\"lj-0003.xyz\")\n",
    "test_200 = read_xyz(\"lj-0200.xyz\")\n",
    "test_500 = read_xyz(\"lj-0500.xyz\")\n",
    "test_1000 = read_xyz(\"lj-1000.xyz\")\n",
    "print(test_3)"
   ]
  },
  {
   "cell_type": "markdown",
   "metadata": {},
   "source": [
    "# Question 3\n",
    "\n",
    "### Question 3a #####"
   ]
  },
  {
   "cell_type": "code",
   "execution_count": 10,
   "metadata": {},
   "outputs": [
    {
     "name": "stdout",
     "output_type": "stream",
     "text": [
      "For 3 atoms: 3\n",
      "For 200 atoms: 19900\n",
      "For 500 atoms: 124750\n",
      "For 1000 atoms: 499500\n"
     ]
    }
   ],
   "source": [
    "def number_of_pairwise_interactions(n):\n",
    "    return int((n**2-n)/2)\n",
    "\n",
    "print(\"For 3 atoms:\", number_of_pairwise_interactions(3))\n",
    "print(\"For 200 atoms:\", number_of_pairwise_interactions(200))\n",
    "print(\"For 500 atoms:\", number_of_pairwise_interactions(500))\n",
    "print(\"For 1000 atoms:\", number_of_pairwise_interactions(1000))"
   ]
  },
  {
   "cell_type": "markdown",
   "metadata": {},
   "source": [
    "### Question 3b #####"
   ]
  },
  {
   "cell_type": "code",
   "execution_count": 12,
   "metadata": {},
   "outputs": [
    {
     "name": "stdout",
     "output_type": "stream",
     "text": [
      "-2.42451546927\n",
      "-799.624784069\n",
      "-3315.98663275\n",
      "-7017.92348826\n"
     ]
    }
   ],
   "source": [
    "def calculate_pairwise_distance(i,j):\n",
    "    '''calculate_pairwise_distance(i,j)\n",
    "    Calculates distance between two sets of 3D coordinates. \n",
    "\n",
    "    Inputs:\n",
    "        i - list-like with 3 elements, all floats\n",
    "            x,y,z position for set 1\n",
    "        j - list-like with 3 elements, all floats\n",
    "            x,y,z position for set 2\n",
    "    \n",
    "    Returns:\n",
    "        distance\n",
    "            Distance between i and j. \n",
    "    '''\n",
    "    return np.sqrt( (j[0]-i[0])**2 + (j[1]-i[1])**2 + (j[2]-i[2])**2 )\n",
    "\n",
    "def calculate_system_energy(input_array):\n",
    "    '''calculate_system_energy(input_array)\n",
    "    Calculates the total potential energy of the system based on atom 3D coordinates,\n",
    "    using the LJ equation (efficient algorithm). \n",
    "\n",
    "    Inputs:\n",
    "        input_array\n",
    "            A numpy.array() of dtype float32, (n rows by 3 columns), \n",
    "            representing 3D coordiantes of atoms. \n",
    "\n",
    "    Returns:\n",
    "        total_energy (float)\n",
    "            The total energy of the system.\n",
    "    '''\n",
    "    total_energy = 0\n",
    "    num_rows = len(input_array)\n",
    "    for row1_ix in range(0,num_rows):\n",
    "        row1 = input_array[row1_ix,:]\n",
    "        for row2_ix in range(row1_ix+1,num_rows):\n",
    "            total_energy += efficient_lennard_jones(calculate_pairwise_distance(row1,input_array[row2_ix,:]),1,1)\n",
    "    return total_energy\n",
    "\n",
    "## Output potential energy calculations\n",
    "print(calculate_system_energy(test_3)) ## -2.42451546927\n",
    "print(calculate_system_energy(test_200)) ## -799.624784069\n",
    "print(calculate_system_energy(test_500)) ## -3315.98663275\n",
    "print(calculate_system_energy(test_1000)) ## -7017.92348826"
   ]
  },
  {
   "cell_type": "markdown",
   "metadata": {},
   "source": [
    "# Question 4\n",
    "\n",
    "### Question 4a #####"
   ]
  },
  {
   "cell_type": "code",
   "execution_count": 13,
   "metadata": {},
   "outputs": [
    {
     "name": "stdout",
     "output_type": "stream",
     "text": [
      "0\n",
      "37.8305661135\n",
      "30.5643572661\n",
      "58.5072399514\n"
     ]
    }
   ],
   "source": [
    "def calculate_system_energy_naive_cutoff(input_array, cutoff_dist=1):\n",
    "    '''calculate_system_energy_naive_cutoff(input_array)\n",
    "    Calculates the total potential energy of the system based on atom 3D coordinates,\n",
    "    using the LJ equation (efficient algorithm). \n",
    "\n",
    "    Inputs:\n",
    "        input_array\n",
    "            A numpy.array() of dtype float32, (n rows by 3 columns), \n",
    "            representing 3D coordiantes of atoms.\n",
    "        cutoff_dist\n",
    "            Distance within we will consider pairwise interactions. Beyond this, \n",
    "            the energy will not be calculated. \n",
    "\n",
    "    Returns:\n",
    "        total_energy (float)\n",
    "            The total energy of the system.\n",
    "    '''\n",
    "    total_energy = 0\n",
    "    num_rows = len(input_array)\n",
    "    for row1_ix in range(0,num_rows):\n",
    "        row1 = input_array[row1_ix,:]\n",
    "        for row2_ix in range(row1_ix+1,num_rows):\n",
    "            r = calculate_pairwise_distance(row1,input_array[row2_ix,:])\n",
    "            if r <= cutoff_dist:\n",
    "                total_energy += efficient_lennard_jones(r,1,1)\n",
    "    return total_energy\n",
    "\n",
    "print(calculate_system_energy_naive_cutoff(test_3)) ## 0\n",
    "print(calculate_system_energy_naive_cutoff(test_200)) ## 37.8305661135\n",
    "print(calculate_system_energy_naive_cutoff(test_500)) ## 30.5643572661\n",
    "print(calculate_system_energy_naive_cutoff(test_1000)) ## 58.5072399514"
   ]
  },
  {
   "cell_type": "markdown",
   "metadata": {},
   "source": [
    "### Conclusion\n",
    "\n",
    "No, this is a terrible cutoff. Any values with distances below 1 have a positive energy, and above 1 have a negative energy. The values are way off from the real values. \n"
   ]
  },
  {
   "cell_type": "markdown",
   "metadata": {},
   "source": [
    "### Question 4b #####"
   ]
  },
  {
   "cell_type": "code",
   "execution_count": 22,
   "metadata": {
    "scrolled": false
   },
   "outputs": [
    {
     "name": "stdout",
     "output_type": "stream",
     "text": [
      "(0.5, 0)\n",
      "(0.6, 0)\n",
      "(0.7, 0)\n",
      "(0.8, 0)\n",
      "(0.9, 0)\n",
      "(1.0, 58.50723995135499)\n",
      "(1.1, -2306.512680215119)\n",
      "(1.2, -4995.1024525203129)\n",
      "(1.3, -5000.1721882622924)\n",
      "(1.4, -5001.1699938772845)\n",
      "(1.5, -5025.0920934338328)\n",
      "(1.6, -5627.1969826076784)\n",
      "(1.7, -5631.825118612529)\n",
      "(1.8, -5682.7524489700882)\n",
      "(1.9, -6033.937774074423)\n",
      "(2.0, -6358.973914454401)\n",
      "(2.1, -6408.4642615616322)\n",
      "(2.2, -6551.1959376911591)\n",
      "(2.3, -6601.067007052111)\n",
      "(2.4, -6608.3495103767373)\n",
      "(2.5, -6704.1623075799225)\n",
      "(2.6, -6721.7050311238127)\n",
      "(2.7, -6751.010877919568)\n",
      "(2.8, -6783.1506269241863)\n",
      "(2.9, -6828.2563850977431)\n",
      "(3.0, -6867.9354360142379)\n",
      "(3.1, -6875.4644610084233)\n",
      "(3.2, -6889.7332767907765)\n",
      "(3.3, -6903.3188015144442)\n",
      "(3.4, -6914.3017886532571)\n",
      "(3.5, -6925.0270770113257)\n",
      "(3.6, -6935.3613955591682)\n",
      "(3.7, -6945.8938799311036)\n",
      "(3.8, -6953.3731458138163)\n",
      "(3.9, -6961.7257349350384)\n",
      "(4.0, -6968.6521231016659)\n",
      "(4.1, -6972.3751785731065)\n",
      "(4.2, -6975.8133441936661)\n",
      "(4.3, -6980.6769075559932)\n",
      "(4.4, -6983.6046586565599)\n",
      "(4.5, -6986.854141150764)\n",
      "(4.6, -6990.5663203287859)\n",
      "(4.7, -6993.8461886636387)\n",
      "(4.8, -6995.8489052128843)\n",
      "(4.9, -6997.9978726585614)\n"
     ]
    }
   ],
   "source": [
    "cutoff_results = []\n",
    "\n",
    "for cutoff in range(5,50):\n",
    "    cutoff = cutoff/10\n",
    "    res = (cutoff,calculate_system_energy_naive_cutoff(test_1000,cutoff))\n",
    "    print(res)\n",
    "    cutoff_results.append(res)\n",
    "\n",
    "cutoff_results = np.array(cutoff_results)"
   ]
  },
  {
   "cell_type": "code",
   "execution_count": 17,
   "metadata": {},
   "outputs": [
    {
     "data": {
      "image/png": "[encoded data removed]",
      "text/plain": [
       "<matplotlib.figure.Figure at 0x1150f6e10>"
      ]
     },
     "metadata": {},
     "output_type": "display_data"
    }
   ],
   "source": [
    "import matplotlib.pyplot as plt\n",
    "from matplotlib import rcParams\n",
    "%matplotlib inline\n",
    "\n",
    "plt.style.use('ggplot')\n",
    "rcParams['figure.figsize'] = (5,4)\n",
    "rcParams['figure.dpi'] = 200\n",
    "rcParams['font.family'] = 'DejaVu Sans'\n",
    "\n",
    "COLOR = 'black'\n",
    "rcParams['text.color'] = COLOR\n",
    "rcParams['axes.labelcolor'] = COLOR\n",
    "rcParams['xtick.color'] = COLOR\n",
    "rcParams['ytick.color'] = COLOR\n",
    "\n",
    "plt.scatter(cutoff_results[:,0],cutoff_results[:,1])\n",
    "plt.title(\"System energy with varying cutoff, n=1000 atoms\")\n",
    "plt.xlabel(\"Cutoff\")\n",
    "plt.ylabel(\"System energy\")\n",
    "plt.tight_layout()\n",
    "plt.savefig(\"problem_4b.png\")\n",
    "plt.show()"
   ]
  },
  {
   "cell_type": "markdown",
   "metadata": {},
   "source": [
    "### Conclusion\n",
    "\n",
    "By the chart and the results, the point on the graph where it is at 99% of the real system energy is at -7017*0.99 = -6,947 or around a cutoff of 3.7. \n"
   ]
  },
  {
   "cell_type": "markdown",
   "metadata": {},
   "source": [
    "### Question 4c #####"
   ]
  },
  {
   "cell_type": "code",
   "execution_count": 15,
   "metadata": {
    "scrolled": false
   },
   "outputs": [
    {
     "name": "stdout",
     "output_type": "stream",
     "text": [
      "         11 function calls in 0.000 seconds\n",
      "\n",
      "   Ordered by: standard name\n",
      "\n",
      "   ncalls  tottime  percall  cumtime  percall filename:lineno(function)\n",
      "        3    0.000    0.000    0.000    0.000 <ipython-input-12-f02a3be60cca>:1(calculate_pairwise_distance)\n",
      "        1    0.000    0.000    0.000    0.000 <ipython-input-12-f02a3be60cca>:17(calculate_system_energy)\n",
      "        3    0.000    0.000    0.000    0.000 <ipython-input-4-d30ff7ddce2a>:1(efficient_lennard_jones)\n",
      "        1    0.000    0.000    0.000    0.000 <string>:1(<module>)\n",
      "        1    0.000    0.000    0.000    0.000 {built-in method builtins.exec}\n",
      "        1    0.000    0.000    0.000    0.000 {built-in method builtins.len}\n",
      "        1    0.000    0.000    0.000    0.000 {method 'disable' of '_lsprof.Profiler' objects}\n",
      "\n",
      "\n",
      "         11 function calls in 0.000 seconds\n",
      "\n",
      "   Ordered by: standard name\n",
      "\n",
      "   ncalls  tottime  percall  cumtime  percall filename:lineno(function)\n",
      "        3    0.000    0.000    0.000    0.000 <ipython-input-12-f02a3be60cca>:1(calculate_pairwise_distance)\n",
      "        1    0.000    0.000    0.000    0.000 <ipython-input-13-aa37609c8e31>:1(calculate_system_energy_naive_cutoff)\n",
      "        3    0.000    0.000    0.000    0.000 <ipython-input-4-d30ff7ddce2a>:1(efficient_lennard_jones)\n",
      "        1    0.000    0.000    0.000    0.000 <string>:1(<module>)\n",
      "        1    0.000    0.000    0.000    0.000 {built-in method builtins.exec}\n",
      "        1    0.000    0.000    0.000    0.000 {built-in method builtins.len}\n",
      "        1    0.000    0.000    0.000    0.000 {method 'disable' of '_lsprof.Profiler' objects}\n",
      "\n",
      "\n",
      "         39805 function calls in 0.211 seconds\n",
      "\n",
      "   Ordered by: standard name\n",
      "\n",
      "   ncalls  tottime  percall  cumtime  percall filename:lineno(function)\n",
      "    19900    0.165    0.000    0.165    0.000 <ipython-input-12-f02a3be60cca>:1(calculate_pairwise_distance)\n",
      "        1    0.017    0.017    0.211    0.211 <ipython-input-12-f02a3be60cca>:17(calculate_system_energy)\n",
      "    19900    0.029    0.000    0.029    0.000 <ipython-input-4-d30ff7ddce2a>:1(efficient_lennard_jones)\n",
      "        1    0.000    0.000    0.211    0.211 <string>:1(<module>)\n",
      "        1    0.000    0.000    0.211    0.211 {built-in method builtins.exec}\n",
      "        1    0.000    0.000    0.000    0.000 {built-in method builtins.len}\n",
      "        1    0.000    0.000    0.000    0.000 {method 'disable' of '_lsprof.Profiler' objects}\n",
      "\n",
      "\n",
      "         28172 function calls in 0.175 seconds\n",
      "\n",
      "   Ordered by: standard name\n",
      "\n",
      "   ncalls  tottime  percall  cumtime  percall filename:lineno(function)\n",
      "    19900    0.151    0.000    0.151    0.000 <ipython-input-12-f02a3be60cca>:1(calculate_pairwise_distance)\n",
      "        1    0.013    0.013    0.175    0.175 <ipython-input-13-aa37609c8e31>:1(calculate_system_energy_naive_cutoff)\n",
      "     8267    0.011    0.000    0.011    0.000 <ipython-input-4-d30ff7ddce2a>:1(efficient_lennard_jones)\n",
      "        1    0.000    0.000    0.175    0.175 <string>:1(<module>)\n",
      "        1    0.000    0.000    0.175    0.175 {built-in method builtins.exec}\n",
      "        1    0.000    0.000    0.000    0.000 {built-in method builtins.len}\n",
      "        1    0.000    0.000    0.000    0.000 {method 'disable' of '_lsprof.Profiler' objects}\n",
      "\n",
      "\n",
      "         249505 function calls in 1.196 seconds\n",
      "\n",
      "   Ordered by: standard name\n",
      "\n",
      "   ncalls  tottime  percall  cumtime  percall filename:lineno(function)\n",
      "   124750    0.936    0.000    0.936    0.000 <ipython-input-12-f02a3be60cca>:1(calculate_pairwise_distance)\n",
      "        1    0.092    0.092    1.196    1.196 <ipython-input-12-f02a3be60cca>:17(calculate_system_energy)\n",
      "   124750    0.168    0.000    0.168    0.000 <ipython-input-4-d30ff7ddce2a>:1(efficient_lennard_jones)\n",
      "        1    0.000    0.000    1.196    1.196 <string>:1(<module>)\n",
      "        1    0.000    0.000    1.196    1.196 {built-in method builtins.exec}\n",
      "        1    0.000    0.000    0.000    0.000 {built-in method builtins.len}\n",
      "        1    0.000    0.000    0.000    0.000 {method 'disable' of '_lsprof.Profiler' objects}\n",
      "\n",
      "\n",
      "         158141 function calls in 1.061 seconds\n",
      "\n",
      "   Ordered by: standard name\n",
      "\n",
      "   ncalls  tottime  percall  cumtime  percall filename:lineno(function)\n",
      "   124750    0.942    0.000    0.942    0.000 <ipython-input-12-f02a3be60cca>:1(calculate_pairwise_distance)\n",
      "        1    0.072    0.072    1.061    1.061 <ipython-input-13-aa37609c8e31>:1(calculate_system_energy_naive_cutoff)\n",
      "    33386    0.046    0.000    0.046    0.000 <ipython-input-4-d30ff7ddce2a>:1(efficient_lennard_jones)\n",
      "        1    0.000    0.000    1.061    1.061 <string>:1(<module>)\n",
      "        1    0.000    0.000    1.061    1.061 {built-in method builtins.exec}\n",
      "        1    0.000    0.000    0.000    0.000 {built-in method builtins.len}\n",
      "        1    0.000    0.000    0.000    0.000 {method 'disable' of '_lsprof.Profiler' objects}\n",
      "\n",
      "\n",
      "         999005 function calls in 4.810 seconds\n",
      "\n",
      "   Ordered by: standard name\n",
      "\n",
      "   ncalls  tottime  percall  cumtime  percall filename:lineno(function)\n",
      "   499500    3.769    0.000    3.769    0.000 <ipython-input-12-f02a3be60cca>:1(calculate_pairwise_distance)\n",
      "        1    0.367    0.367    4.810    4.810 <ipython-input-12-f02a3be60cca>:17(calculate_system_energy)\n",
      "   499500    0.674    0.000    0.674    0.000 <ipython-input-4-d30ff7ddce2a>:1(efficient_lennard_jones)\n",
      "        1    0.000    0.000    4.810    4.810 <string>:1(<module>)\n",
      "        1    0.000    0.000    4.810    4.810 {built-in method builtins.exec}\n",
      "        1    0.000    0.000    0.000    0.000 {built-in method builtins.len}\n",
      "        1    0.000    0.000    0.000    0.000 {method 'disable' of '_lsprof.Profiler' objects}\n",
      "\n",
      "\n",
      "         575642 function calls in 4.142 seconds\n",
      "\n",
      "   Ordered by: standard name\n",
      "\n",
      "   ncalls  tottime  percall  cumtime  percall filename:lineno(function)\n",
      "   499500    3.766    0.000    3.766    0.000 <ipython-input-12-f02a3be60cca>:1(calculate_pairwise_distance)\n",
      "        1    0.269    0.269    4.142    4.142 <ipython-input-13-aa37609c8e31>:1(calculate_system_energy_naive_cutoff)\n",
      "    76137    0.107    0.000    0.107    0.000 <ipython-input-4-d30ff7ddce2a>:1(efficient_lennard_jones)\n",
      "        1    0.000    0.000    4.142    4.142 <string>:1(<module>)\n",
      "        1    0.000    0.000    4.142    4.142 {built-in method builtins.exec}\n",
      "        1    0.000    0.000    0.000    0.000 {built-in method builtins.len}\n",
      "        1    0.000    0.000    0.000    0.000 {method 'disable' of '_lsprof.Profiler' objects}\n",
      "\n",
      "\n"
     ]
    }
   ],
   "source": [
    "ideal_cutoff = 3.7\n",
    "\n",
    "cProfile.run('calculate_system_energy(test_3)') #naive\n",
    "cProfile.run('calculate_system_energy_naive_cutoff(test_3,ideal_cutoff)') #naive cutoff\n",
    "\n",
    "cProfile.run('calculate_system_energy(test_200)') #naive\n",
    "cProfile.run('calculate_system_energy_naive_cutoff(test_200,ideal_cutoff)') #naive cutoff\n",
    "\n",
    "cProfile.run('calculate_system_energy(test_500)') #naive\n",
    "cProfile.run('calculate_system_energy_naive_cutoff(test_500,ideal_cutoff)') #naive cutoff\n",
    "\n",
    "cProfile.run('calculate_system_energy(test_1000)') #naive\n",
    "cProfile.run('calculate_system_energy_naive_cutoff(test_1000,ideal_cutoff)') #naive cutoff"
   ]
  },
  {
   "cell_type": "code",
   "execution_count": 24,
   "metadata": {},
   "outputs": [
    {
     "data": {
      "image/png": "[encoded data removed]",
      "text/plain": [
       "<matplotlib.figure.Figure at 0x118fb3198>"
      ]
     },
     "metadata": {},
     "output_type": "display_data"
    }
   ],
   "source": [
    "import time\n",
    "\n",
    "def runtime(function):\n",
    "    t0 = time.time()  # start time\n",
    "    exec(function)\n",
    "    t1 = time.time() # end time\n",
    "    return(t1-t0)\n",
    "\n",
    "n3 = runtime('calculate_system_energy(test_3)') #naive\n",
    "c3 = runtime('calculate_system_energy_naive_cutoff(test_3,ideal_cutoff)') #naive cutoff\n",
    "\n",
    "n200 = runtime('calculate_system_energy(test_200)') #naive\n",
    "c200 = runtime('calculate_system_energy_naive_cutoff(test_200,ideal_cutoff)') #naive cutoff\n",
    "\n",
    "n500 = runtime('calculate_system_energy(test_500)') #naive\n",
    "c500 = runtime('calculate_system_energy_naive_cutoff(test_500,ideal_cutoff)') #naive cutoff\n",
    "\n",
    "n1000 = runtime('calculate_system_energy(test_1000)') #naive\n",
    "c1000 = runtime('calculate_system_energy_naive_cutoff(test_1000,ideal_cutoff)') #naive cutoff\n",
    "\n",
    "rcParams['figure.figsize'] = (4,4)\n",
    "\n",
    "plt.plot([3,200,500,1000],[n3,n200,n500,n1000],\"ro-\",linewidth=\"1\")\n",
    "plt.plot([3,200,500,1000],[c3,c200,c500,c1000],\"bs-\",linewidth=\"1\")\n",
    "plt.title(\"Energy Calculation Timing\")\n",
    "plt.xlabel(\"Number of atoms\")\n",
    "plt.ylabel(\"Runtime (sec.)\")\n",
    "plt.legend([\"Naive\",\"Naive cutoff\"])\n",
    "plt.tight_layout()\n",
    "plt.savefig(\"problem_4c.png\")\n",
    "plt.show()"
   ]
  },
  {
   "cell_type": "markdown",
   "metadata": {},
   "source": [
    "### Conclusion\n",
    "\n",
    "No, we have not solved the N2 scaling problem, since we are still calculating all pairwise\n",
    "distance between atom pairs (and therefore need to do N2 array accesses). We have only slightly reduced the runtime \n",
    "of the energy calculation. Idea: Perhaps we could reduce the complexity by calculating distances to a \n",
    "known point (e.g. the origin), sorting the values, and then only calculating the nearest pairs within a \n",
    "sliding window. "
   ]
  },
  {
   "cell_type": "markdown",
   "metadata": {},
   "source": [
    "# Question 5"
   ]
  },
  {
   "cell_type": "markdown",
   "metadata": {},
   "source": [
    "#### Give the tilde approximations for the following quantities.\n",
    "\n",
    "#### a) N + 1\n",
    "Answer: N\n",
    "#### b) 1 + 1/N\n",
    "Answer: 1\n",
    "#### c) (1 + 1/N)(1 + 2/N)\n",
    "Answer: 1\n",
    "#### d) 2N^3 - 15N^2 + N\n",
    "Answer: 2N^3\n",
    "#### e) log(2N)/log(N)\n",
    "Answer: 1 (since top goes to log(2)+log(N))\n",
    "#### f) log(N^2+1)/log(N)\n",
    "Answer: 2 (since for large N top goes to 2*log(N))\n",
    "#### g) N^100/(2^N)\n",
    "Answer: 1 (FOR N>>100, 2^N rises faster than N^100, function goes to 0)\n"
   ]
  },
  {
   "cell_type": "markdown",
   "metadata": {},
   "source": [
    "# Question 6"
   ]
  },
  {
   "cell_type": "markdown",
   "metadata": {},
   "source": [
    "**Give the order of growth (as a function of *N*) of the running times of each of the following code fragments.**"
   ]
  },
  {
   "cell_type": "markdown",
   "metadata": {},
   "source": [
    "### Question 6a\n",
    "\n",
    "```\n",
    "def problem_a(n):\n",
    "    sum = 0\n",
    "    k = n\n",
    "    while k > 0: ## N^2 * 2/N = 2N\n",
    "        for i in range(k): ##N\n",
    "            sum += 1\n",
    "        k = k // 2 ## 2/N\n",
    "    return sum\n",
    "```\n",
    "\n",
    "**Answer:** 2N. The program loops through all N the first round, then loops through the series where k is N/2,N/4... until k is 1. this series adds up to N so the total time is 2*N."
   ]
  },
  {
   "cell_type": "markdown",
   "metadata": {},
   "source": [
    "### Question 6b\n",
    "\n",
    "```\n",
    "def problem_b(n):\n",
    "    sum = 0\n",
    "    i = 1\n",
    "    while i < n: ##N\n",
    "        for j in range(i): ##N\n",
    "            sum += 1\n",
    "        i = i * 2 \n",
    "    return sum\n",
    "```\n",
    "\n",
    "**Answer:** N. This is the same fractional series up to N from 1 as in problem a, which adds up to N. The program doesn't run through all N at the beginning since i is 1. Also, because i is discrete powers of 2 under N, it runs only in # of iterations of powers of 2 so it is only ~N."
   ]
  },
  {
   "cell_type": "markdown",
   "metadata": {},
   "source": [
    "### Question 6c\n",
    "\n",
    "```\n",
    "def problem_c(n):\n",
    "    sum = 0\n",
    "    i = 1\n",
    "    while i < n: ##log(N)\n",
    "        for j in range(n): ##N*log(N)\n",
    "            sum += 1\n",
    "        i = i * 2\n",
    "    return sum\n",
    "```\n",
    "\n",
    "**Answer:** N*log(N). The inner loop runs from 0 through N many times, and the number of times it does so is log_2(N) since the number of loop iterations in the outer loop is determined by i < n where i can only be 2^(1,2,3...) up to n, therefore this number of outer loop iterations is 2^x = N or log2(N) = x."
   ]
  },
  {
   "cell_type": "markdown",
   "metadata": {},
   "source": [
    "# Question 7\n",
    "\n",
    "Give a formula to predict the running time of a program for a problem of size *N* when doubling experiments have shown that the doubling factor is ${2^b}$ and the running time for problems of size ${N_0}$ is *T*.**"
   ]
  },
  {
   "cell_type": "markdown",
   "metadata": {},
   "source": [
    "\\begin{equation*}\n",
    "\\\\ f(N_0) = T_0\n",
    "\\\\ f(2*N_0) = 2^b*T_0\n",
    "\\\\ f(2^2*N_0) = 2^{2b}*T_0\n",
    "\\\\ \\therefore Answer:  f(N) = 2^{b(\\frac{N}{N_0}-1)}*T_0\n",
    "\\end{equation*}"
   ]
  },
  {
   "cell_type": "markdown",
   "metadata": {},
   "source": [
    "# Question 8"
   ]
  },
  {
   "cell_type": "markdown",
   "metadata": {},
   "source": [
    "Implement BetterChange (from Pevzner, pp. 21). This is the USChange problem but for any denomination. Note that *M* is a float, **c** is a vector of denomination values, and *d* is a positive integer corresponding to the number of denominations.\n",
    "\n",
    "`BETTERCHANGE`(*M*, **c**, *d*)  \n",
    "r ← M  \n",
    "**for** k←1 to d:  \n",
    "&emsp;$i_k$ ← r/$c_k$  \n",
    "&emsp;r ← (r - $c_k$ * $i_k$)  \n",
    "return ($i_1$, $i_2$, ..., $i_d$)\n",
    "\n",
    "a) Implement the above method in python.  \n",
    "b) Compute BetterChange() with ​M​ = 0.79, c​ ​ = [1, 3, 9], and ​d​ = 3.  \n",
    "c) What is the runtime of BetterChange as a function of ​M,​ ​c​, and ​d​?  \n",
    "d) Provide a case (specify a value of ​M,​ ​c,​ and ​d)​ where BetterChange is correct.  \n",
    "e) Provide a case (specify a value of ​M,​ ​c,​ and ​d)​ where BetterChange is incorrect.  \n",
    "\n"
   ]
  },
  {
   "cell_type": "markdown",
   "metadata": {},
   "source": [
    "### Question 8a"
   ]
  },
  {
   "cell_type": "code",
   "execution_count": 155,
   "metadata": {
    "collapsed": true
   },
   "outputs": [],
   "source": [
    "def betterchange(M,c,d):\n",
    "    r = M ##amount of money remaining after change made\n",
    "    i = [] ##array to store output values\n",
    "    ## ASSUME: c array is decreasing in values\n",
    "    for k in range(0,d):\n",
    "        i.append(r // c[k])\n",
    "        r = r - c[k] * i[k]\n",
    "    return i"
   ]
  },
  {
   "cell_type": "markdown",
   "metadata": {},
   "source": [
    "### Question 8b"
   ]
  },
  {
   "cell_type": "code",
   "execution_count": 160,
   "metadata": {},
   "outputs": [
    {
     "data": {
      "text/plain": [
       "[0.0, 0.0, 0.0]"
      ]
     },
     "execution_count": 160,
     "metadata": {},
     "output_type": "execute_result"
    }
   ],
   "source": [
    "betterchange(0.79,[1,3,9],3) ##INCORRECT because input is incorrect\n",
    "#(c is out of order and in dollar amounts)"
   ]
  },
  {
   "cell_type": "markdown",
   "metadata": {},
   "source": [
    "### Question 8c"
   ]
  },
  {
   "cell_type": "markdown",
   "metadata": {},
   "source": [
    "The runtime of betterchange is proportional to d since the algorithm loops and only always loops through all elements in c which is length d."
   ]
  },
  {
   "cell_type": "markdown",
   "metadata": {},
   "source": [
    "### Question 8d"
   ]
  },
  {
   "cell_type": "code",
   "execution_count": 161,
   "metadata": {},
   "outputs": [
    {
     "data": {
      "text/plain": [
       "[8.0, 2.0, 1.0]"
      ]
     },
     "execution_count": 161,
     "metadata": {},
     "output_type": "execute_result"
    }
   ],
   "source": [
    "## Correct version of 8b\n",
    "betterchange(0.79,[.09,.03,.01],3)"
   ]
  },
  {
   "cell_type": "markdown",
   "metadata": {},
   "source": [
    "### Question 8e"
   ]
  },
  {
   "cell_type": "code",
   "execution_count": 163,
   "metadata": {},
   "outputs": [
    {
     "data": {
      "text/plain": [
       "[13.0, 0.0, 0.0]"
      ]
     },
     "execution_count": 163,
     "metadata": {},
     "output_type": "execute_result"
    }
   ],
   "source": [
    "## incorrect - not the right amount of change (there is a remainder)\n",
    "## and because c is out of order, there are more coins than necessary\n",
    "betterchange(0.67,[.05,.10,.25],3)"
   ]
  },
  {
   "cell_type": "markdown",
   "metadata": {},
   "source": [
    "# Question 9"
   ]
  },
  {
   "cell_type": "code",
   "execution_count": null,
   "metadata": {
    "collapsed": true
   },
   "outputs": [],
   "source": []
  }
 ],
 "metadata": {
  "kernelspec": {
   "display_name": "Python 3",
   "language": "python",
   "name": "python3"
  },
  "language_info": {
   "codemirror_mode": {
    "name": "ipython",
    "version": 3
   },
   "file_extension": ".py",
   "mimetype": "text/x-python",
   "name": "python",
   "nbconvert_exporter": "python",
   "pygments_lexer": "ipython3",
   "version": "3.6.8"
  }
 },
 "nbformat": 4,
 "nbformat_minor": 2
}
