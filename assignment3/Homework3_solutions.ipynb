{
 "cells": [
  {
   "cell_type": "markdown",
   "metadata": {},
   "source": [
    "# Assignment 3\n",
    "### BMI 2005\n",
    "\n",
    "\n",
    "By: Ryan Neff  \n",
    "Due: 3/6/19"
   ]
  },
  {
   "cell_type": "markdown",
   "metadata": {},
   "source": [
    "## Problem 1\n",
    "\n",
    "Suppose we have numbers between `1` and `1000` in a BST and we search for the number `363`. Which (at least one) of the following sequences could not be the sequence of nodes examined?  \n",
    "```a) 2, 252, 401, 398, 330, 344, 397, 363\n",
    "b) 924, 220, 911, 244, 898, 258, 362, 363\n",
    "c) 925, 202, 911, 240, 912, 245, 363\n",
    "d) 2, 399, 387, 219, 266, 382, 381, 278, 363 \n",
    "e) 935, 278, 347, 621, 299, 392, 358, 363\n",
    "```\n",
    "\n",
    "**Answer:** C, E\n",
    "\n",
    "C is not the right answer because 912 is greater than 911 so it would be on the right link of 911, not under its left link with 240.  \n",
    "E is not the right answer because 299 is less than 347 and so would be on the left link of 347, not under its right link with 621.  "
   ]
  },
  {
   "cell_type": "markdown",
   "metadata": {},
   "source": [
    "## Problem 2\n",
    "\n",
    "Define a hash table with an associated hash function `h(k)` mapping keys `k` to to their associated hash value.\n",
    "\n",
    "a) Suppose we wish to search a linked list of length `n`, where each element contains a key `k` along with a hash value `h(k)`. Each key is a long character string. In words, how might we take advantage of the hash values when searching the list for an element with a given key?\n",
    "\n",
    "**Answer**: We could make the linked list of strings into a binary search tree of hashes where we could compare the hash values of the item we are searching for and check if it is greater than or less than the hash value of the node. \n",
    "\n",
    "b) Consider a hash table of size `m = 1000` and a corresponding hash function `h(k) = floor(m (kA mod 1))` for `A = (sqrt(5) - 1)/2)`. This type of divisive hashing has been shown to yield effective randomly distributed hashes. Note that `mod 1` means take the fractional component of `kA` i.e. `kA - floor(kA)`.\n",
    "Compute the hashes for `keys = {61, 62, 63, 64, 65}`."
   ]
  },
  {
   "cell_type": "code",
   "execution_count": 6,
   "metadata": {},
   "outputs": [
    {
     "name": "stdout",
     "output_type": "stream",
     "text": [
      "key: 61, hash: 700\n",
      "key: 62, hash: 318\n",
      "key: 63, hash: 936\n",
      "key: 64, hash: 554\n",
      "key: 65, hash: 172\n"
     ]
    }
   ],
   "source": [
    "import math\n",
    "\n",
    "def h(k):\n",
    "    m = 1000\n",
    "    A = (math.sqrt(5)-1)/2\n",
    "    return math.floor(m*(k*A % 1))\n",
    "\n",
    "keys = [61, 62, 63, 64, 65]\n",
    "\n",
    "for key in keys:\n",
    "    print(\"key: {}, hash: {}\".format(key,h(key)))"
   ]
  },
  {
   "cell_type": "markdown",
   "metadata": {},
   "source": [
    "c) In simple uniform hashing, each key is assumed to have equal probability to map to any of the hashes in a given table of size `m`. Given an open-address table of size `100` and `2` random keys, what is the probability that they hash to the same value? What is the probability that they hash to different values?"
   ]
  },
  {
   "cell_type": "markdown",
   "metadata": {},
   "source": [
    "**Answer:**\n",
    "\n",
    "P(different keys) $= N/N * (N-1)/N = 100/100 * 99/100 = 1 * 99/100 = 99/100$   \n",
    "P(same key) $= N/N * 1/N = 100/100 * 1/100 = 1/100 $"
   ]
  },
  {
   "cell_type": "markdown",
   "metadata": {},
   "source": [
    "## Problem 3\n",
    "\n",
    "Binary Search Trees are defined by each parent having at most 2 child nodes and maintain the invariant that all descendents to the left of a node are smaller than the node, while all descendants to the right are greater for all subtrees.\n",
    "\n",
    "a) What are all the possible valid BSTs drawn from the array `[1, 2, 3]`? How many are there?\n",
    "\n",
    "**Answer:**\n",
    "\n",
    "b) In lab we explored the number of possible binary tree topologies given a height of n and n nodes (spoiler: 2 n−1 ). It turns out that the number of binary tree topologies (given all possible heights) with `n` nodes is the \n",
    "\n",
    "**Catalan Number**\n",
    "\n",
    "$C_n =\\frac{1}{(n+1)}*(2n\\;choose\\;n)$.\n",
    "\n",
    "Recursively, this can also be written as:  \n",
    "\n",
    "$C_n = \\sum\\limits_{k=0}^{n-1} c_k*c_{n−1−k}$ with $c_0 = 1$ and $n >= 1$.\n",
    "\n",
    "i) Write a function `cn_recursive(n)` that computes the n-th catalan number recursively.  \n",
    "\n",
    "\n",
    "ii) Write a function `cn_fast(n)` that computes the n-th catalan number using the closed form formulation.  \n",
    "\n",
    "\n",
    "iii) Conduct doubling experiments (just `n = 1, 2, 4,` and `8`) to compare their runtimes. Plot the result on a log-log plot. What are the first 8 Catalan Numbers?  \n",
    "\n"
   ]
  },
  {
   "cell_type": "markdown",
   "metadata": {},
   "source": [
    "## Problem 4\n",
    "\n",
    "..."
   ]
  }
 ],
 "metadata": {
  "kernelspec": {
   "display_name": "Python 3",
   "language": "python",
   "name": "python3"
  },
  "language_info": {
   "codemirror_mode": {
    "name": "ipython",
    "version": 3
   },
   "file_extension": ".py",
   "mimetype": "text/x-python",
   "name": "python",
   "nbconvert_exporter": "python",
   "pygments_lexer": "ipython3",
   "version": "3.6.8"
  }
 },
 "nbformat": 4,
 "nbformat_minor": 2
}
