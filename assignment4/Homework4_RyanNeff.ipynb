{
 "cells": [
  {
   "cell_type": "markdown",
   "metadata": {},
   "source": [
    "# Assignment 4\n",
    "### BMI 2005\n",
    "\n",
    "*Snoop DAG*\n",
    "\n",
    "By: **Ryan Neff**  \n",
    "ryan.neff@icahn.mssm.edu  \n",
    "\n",
    "Due: 4/10/2019"
   ]
  },
  {
   "cell_type": "markdown",
   "metadata": {},
   "source": [
    "### Problem 1\n",
    "\n",
    "In class we discussed the dynamic programming approach to the change problem, DPChange. The pseudocode is provided below. (Note that *M* is an integer (cents), **c** is a vector of denomination values (integer cents) in any particular order, and *d* is a positive integer corresponding to the number of denominations.)\n",
    "\n",
    "```\n",
    "DPChange(M, c, d):\n",
    "    bestNumCoins[0] = 0\n",
    "    for m = 1 to M\n",
    "        bestNumCoins[m] = inf\n",
    "        for i = 1 to d\n",
    "            if m >= c[i]\n",
    "                if bestNumCoins[m-c[i]] + 1 < bestNumCoins[m]\n",
    "                    bestNumCoins[m] = bestNumCoins[m-c[i]] + 1\n",
    "    return bestNumCoins[M]\n",
    "```\n",
    "\n",
    "#### Problem 1a\n",
    "Convert this pseudocode to Python. "
   ]
  },
  {
   "cell_type": "code",
   "execution_count": 171,
   "metadata": {},
   "outputs": [],
   "source": [
    "from collections import defaultdict\n",
    "\n",
    "class InputError(Exception):\n",
    "    def __init__(self, expression, message):\n",
    "        self.expression = expression\n",
    "        self.message = message\n",
    "\n",
    "def print_arr(arr):\n",
    "    return \"|\"+\".\".join([str(a) for a in arr])+\"|\"\n",
    "\n",
    "def DPChange(M,c,d=False,verbose=False):\n",
    "    '''DPChange(M,c,d)\n",
    "        inputs:\n",
    "            M = an **INTEGER** corresponding to the number of cents to make change for\n",
    "            c = a vector of **INTEGERS** of denomination values, in cents, in no particular order\n",
    "            d = a positive integer corresponding to the number of denominations in c\n",
    "        returns:\n",
    "            bestNumCoins[M]\n",
    "                The number of coins from vector c to make denomination M\n",
    "    '''\n",
    "    if type(M)!=int: raise InputError(\"DPChange()\",\"M must be of type int, but got \"+str(type(M)))\n",
    "    if set([type(a) for a in c])!={int}: raise InputError(\"DPChange()\",\"c must all be of type int\")\n",
    "    if d==False: d = len(c)\n",
    "    if d and (d != len(c)): raise InputError(\"DPChange()\",\"d must be equal to length c\")\n",
    "    if type(d)!=int: raise InputError(\"DPChange()\",\"d must be of type int, but got \"+str(type(d)))\n",
    "    bestNumCoins = [0]\n",
    "    tick = 0\n",
    "    for m in range(1,M+1):\n",
    "        bestNumCoins.append(float('inf'))\n",
    "        for i in range(d):\n",
    "            tick += 1\n",
    "            if m >= c[i]:\n",
    "                if bestNumCoins[m-c[i]] + 1 < bestNumCoins[m]:\n",
    "                    bestNumCoins[m] = bestNumCoins[m-c[i]] + 1\n",
    "                    if verbose>=2: print(\"array:\",print_arr(bestNumCoins))\n",
    "    if verbose>=1: print(\"runtime: \" + str(tick))\n",
    "    return bestNumCoins[M]"
   ]
  },
  {
   "cell_type": "code",
   "execution_count": 121,
   "metadata": {},
   "outputs": [
    {
     "data": {
      "text/plain": [
       "2"
      ]
     },
     "execution_count": 121,
     "metadata": {},
     "output_type": "execute_result"
    }
   ],
   "source": [
    "DPChange(13,[9,4,1])"
   ]
  },
  {
   "cell_type": "markdown",
   "metadata": {},
   "source": [
    "#### Problem 1b\n",
    "\n",
    "What is the runtime of this algorithm?"
   ]
  },
  {
   "cell_type": "code",
   "execution_count": 173,
   "metadata": {},
   "outputs": [
    {
     "name": "stdout",
     "output_type": "stream",
     "text": [
      "runtime: 39\n"
     ]
    },
    {
     "data": {
      "text/plain": [
       "2"
      ]
     },
     "execution_count": 173,
     "metadata": {},
     "output_type": "execute_result"
    }
   ],
   "source": [
    "DPChange(13,[4,9,1],d=3,verbose=1)"
   ]
  },
  {
   "cell_type": "markdown",
   "metadata": {},
   "source": [
    "**Answer:** The runtime of DPChange is M \\* d, regardless of the number of coins returned as the best solution. This is from the double loop over 1->M and 1->d, and is shown in the output from tick in 1a."
   ]
  },
  {
   "cell_type": "markdown",
   "metadata": {},
   "source": [
    "#### Problem 1c\n",
    "\n",
    "Modify your function to return not only the best number of coins but also the corresponding combination of denominations as a vector. Do this by create a new function DPChange_bt that is largely the same as DPChange but declares an array coinsUsed that keeps track of the coin on the best 'path' to a given entry m (between 1 and M+1). DPChange_bt should return both bestNumCoins and coinsUsed."
   ]
  },
  {
   "cell_type": "code",
   "execution_count": 182,
   "metadata": {
    "collapsed": true
   },
   "outputs": [],
   "source": [
    "import copy \n",
    "\n",
    "def DPChange_bt(M,c,d=False,verbose=False):\n",
    "    '''DPChange(M,c,d)\n",
    "        inputs:\n",
    "            M = an **INTEGER** corresponding to the number of cents to make change for\n",
    "            c = a vector of **INTEGERS** of denomination values, in cents, in no particular order\n",
    "            d = a positive integer corresponding to the number of denominations in c\n",
    "        returns:\n",
    "            bestNumCoins[M]\n",
    "                The number of coins from vector c to make denomination M\n",
    "    '''\n",
    "    if type(M)!=int: raise InputError(\"DPChange()\",\"M must be of type int, but got \"+str(type(M)))\n",
    "    if set([type(a) for a in c])!={int}: raise InputError(\"DPChange()\",\"c must all be of type int\")\n",
    "    if d==False: d = len(c)\n",
    "    if d and (d != len(c)): raise InputError(\"DPChange()\",\"d must be equal to length c\")\n",
    "    if type(d)!=int: raise InputError(\"DPChange()\",\"d must be of type int, but got \"+str(type(d)))\n",
    "    bestNumCoins = [0]\n",
    "    coinsUsed = [[0]*(d)]\n",
    "    tick = 0\n",
    "    for m in range(1,M+1):\n",
    "        bestNumCoins.append(float('inf'))\n",
    "        coinsUsed.append([0]*(d))\n",
    "        for i in range(d):\n",
    "            tick += 1\n",
    "            if m >= c[i]:\n",
    "                if bestNumCoins[m-c[i]] + 1 < bestNumCoins[m]:\n",
    "                    bestNumCoins[m] = bestNumCoins[m-c[i]] + 1\n",
    "                    coinsUsed[m] = copy.copy(coinsUsed[m-c[i]])\n",
    "                    coinsUsed[m][i] += 1\n",
    "                    if verbose>=3: print(\"coins:\",coinsUsed[m],end=\" \")\n",
    "                    if verbose>=2: print(\"array:\",print_arr(bestNumCoins))\n",
    "    if verbose>=1: print(\"runtime: \" + str(tick))\n",
    "    return bestNumCoins[M], coinsUsed[M]"
   ]
  },
  {
   "cell_type": "code",
   "execution_count": 183,
   "metadata": {},
   "outputs": [
    {
     "name": "stdout",
     "output_type": "stream",
     "text": [
      "runtime: 39\n"
     ]
    },
    {
     "data": {
      "text/plain": [
       "(2, [1, 1, 0])"
      ]
     },
     "execution_count": 183,
     "metadata": {},
     "output_type": "execute_result"
    }
   ],
   "source": [
    "DPChange_bt(13,[9,4,1],d=3,verbose=1)"
   ]
  },
  {
   "cell_type": "markdown",
   "metadata": {},
   "source": [
    "#### Problem 1d\n",
    "\n",
    "Create a function printCoins that prints the sequence of coins used to get to M."
   ]
  },
  {
   "cell_type": "code",
   "execution_count": 167,
   "metadata": {},
   "outputs": [],
   "source": [
    "def printCoins(M,c,d=False):\n",
    "    return(DPChange_bt(M,c,d,verbose=3))"
   ]
  },
  {
   "cell_type": "code",
   "execution_count": 191,
   "metadata": {},
   "outputs": [
    {
     "name": "stdout",
     "output_type": "stream",
     "text": [
      "coins: [0, 0, 1] array: |0.1|\n",
      "coins: [0, 0, 2] array: |0.1.2|\n",
      "coins: [0, 0, 3] array: |0.1.2.3|\n",
      "coins: [0, 1, 0] array: |0.1.2.3.1|\n",
      "coins: [0, 1, 1] array: |0.1.2.3.1.2|\n",
      "coins: [0, 1, 2] array: |0.1.2.3.1.2.3|\n",
      "coins: [0, 1, 3] array: |0.1.2.3.1.2.3.4|\n",
      "coins: [0, 2, 0] array: |0.1.2.3.1.2.3.4.2|\n",
      "coins: [1, 0, 0] array: |0.1.2.3.1.2.3.4.2.1|\n",
      "coins: [1, 0, 1] array: |0.1.2.3.1.2.3.4.2.1.2|\n",
      "coins: [1, 0, 2] array: |0.1.2.3.1.2.3.4.2.1.2.3|\n",
      "coins: [1, 0, 3] array: |0.1.2.3.1.2.3.4.2.1.2.3.4|\n",
      "coins: [0, 3, 0] array: |0.1.2.3.1.2.3.4.2.1.2.3.3|\n",
      "coins: [1, 1, 0] array: |0.1.2.3.1.2.3.4.2.1.2.3.3.2|\n",
      "runtime: 39\n"
     ]
    },
    {
     "data": {
      "text/plain": [
       "(2, [1, 1, 0])"
      ]
     },
     "execution_count": 191,
     "metadata": {},
     "output_type": "execute_result"
    }
   ],
   "source": [
    "printCoins(13,[9,4,1],d=3)"
   ]
  },
  {
   "cell_type": "markdown",
   "metadata": {},
   "source": [
    "#### Problem 1e\n",
    "\n",
    "Has the runtime changed with addition of this backtrace? Why or why not?"
   ]
  },
  {
   "cell_type": "markdown",
   "metadata": {},
   "source": [
    "**Answer:** We have now added a few more function calls that will add some time to the algorithm at some fractional rate of M\\*d dependent on the number of branches on the tree but have not changed the double loop. So we could say we now have an O(1.5\\*M\\*d) runtime. As shown by the runtime counter and the structure of the double loop, it is exactly the same M \\* d number of loop iterations as it was previously. The dynamic algorithm already substitutes in larger coins for smaller coins (the m - c[i] index accomplishes this) for each amount of currency as it works up from 1 cent to M so the loop doesn't change - but the time per optimal solution found does increase.\n",
    "\n",
    "Take a look at the following runtime comparison between the algorithms with and without the trace. We can snoop in on the actual running time with the `%timeit` line magic in Jupyter."
   ]
  },
  {
   "cell_type": "code",
   "execution_count": 189,
   "metadata": {},
   "outputs": [
    {
     "name": "stdout",
     "output_type": "stream",
     "text": [
      "1 loop, best of 3: 1.08 s per loop\n",
      "1 loop, best of 3: 1.59 s per loop\n"
     ]
    }
   ],
   "source": [
    "%timeit DPChange(420000,[98,108,97,122,101,32,105,116])\n",
    "%timeit DPChange_bt(420000,[98,108,97,122,101,32,105,116])"
   ]
  },
  {
   "cell_type": "markdown",
   "metadata": {},
   "source": [
    "### Problem 2\n",
    "\n",
    "The Knapsack Problem is a famous computer science problem that is as follows: imagine you are carrying a knapsack with capacity to hold a total of weight W. You are selecting among n items with values {a_1, a_2, ... , a_n} with associated weights {w_1, w_2, ... , w_n}. Here the weights and values are all positive (but not necessarily unique). You wish to maximize the total value of the items you select (call this set A) not exceeding the given weight capacity, i.e. maximize sum_{a in A} such that sum w < W.\n",
    "\n",
    "\n",
    "#### Problem 2a\n",
    "\n",
    "We can reformulate this as a 2D dynamic programming problem as follows. Define T_{i,j} as the highest possible value sum considering items 1 through i and total weight capacity j (j <= W). What is the base case i.e. T_{0,j} for all j and T_{i,0} for all i?\n"
   ]
  },
  {
   "cell_type": "markdown",
   "metadata": {},
   "source": [
    "**Let:**  \n",
    "T{i,j} = max(sum{a in A} such that sum{w} < W) where a=i and w=j\n",
    "\n",
    "**What is the base case?**  \n",
    "T{0,j} for all j?  \n",
    "T{i,0} for all i?  "
   ]
  },
  {
   "cell_type": "markdown",
   "metadata": {},
   "source": [
    "#### Problem 2b\n",
    "\n",
    "What is the recursive statement? "
   ]
  },
  {
   "cell_type": "markdown",
   "metadata": {},
   "source": [
    "#### Problem 2c\n",
    "\n",
    "Add an array to your function to hold the backtrace (e.g. some data structure that lets you keep track of the path to your optimal solution). What is the optimal set of items? An auxiliary printing function is one option to show this."
   ]
  },
  {
   "cell_type": "code",
   "execution_count": null,
   "metadata": {
    "collapsed": true
   },
   "outputs": [],
   "source": [
    "import copy \n",
    "\n",
    "def knapsack(values,weights,total_weight):\n",
    "    '''knapsack(values,weights,total_weight)'''\n",
    "    pass"
   ]
  },
  {
   "cell_type": "markdown",
   "metadata": {},
   "source": [
    "### Problem 3\n",
    "\n",
    "Here we have an incomplete class definition of a graph along with the following incomplete methods:\n",
    "- addEdge which connects a node v to a pre-existing node u\n",
    "- toplogicalSortUtil which is a helper function for topologicalSort that prints out the topological sort of the graph.\n",
    "\n",
    "FYI: defaultdict is a class from collections that enables you to create and append to the list corresponding to a key that may not exist in that dictionary yet in a single command.\n",
    "There are four areas in the class that you need to fill out (labeled (1), (2), (3) and (4) in the comments). Note that this will be helpful in solving the Rosalind lab problems due 4/10.\n"
   ]
  },
  {
   "cell_type": "code",
   "execution_count": 113,
   "metadata": {},
   "outputs": [
    {
     "ename": "SyntaxError",
     "evalue": "invalid syntax (<ipython-input-113-95669142c766>, line 43)",
     "output_type": "error",
     "traceback": [
      "\u001b[0;36m  File \u001b[0;32m\"<ipython-input-113-95669142c766>\"\u001b[0;36m, line \u001b[0;32m43\u001b[0m\n\u001b[0;31m    visited = [False] * # TODO\u001b[0m\n\u001b[0m                               ^\u001b[0m\n\u001b[0;31mSyntaxError\u001b[0m\u001b[0;31m:\u001b[0m invalid syntax\n"
     ]
    }
   ],
   "source": [
    "#Python program to print topological sorting of a DAG \n",
    "from collections import defaultdict \n",
    "  \n",
    "#Class to represent a graph \n",
    "class Graph: \n",
    "    def __init__(self,vertices): \n",
    "        self.graph = defaultdict(list) # dict of adjacency List \n",
    "        # (1) create an attribute V that returns the number of\n",
    "   # vertices in the graph according to the init parameter  \n",
    "   # vertices\n",
    "         # TODO\n",
    "   \n",
    "    # function to add an edge to graph \n",
    "    def addEdge(self,u,v): \n",
    "        self.graph[u].append(v) \n",
    "  \n",
    "    # A recursive function used by topologicalSort \n",
    "    def topologicalSortUtil(self,v,visited,stack): \n",
    "  \n",
    "        # Mark the current node as visited. \n",
    "        visited[v] = True\n",
    "  \n",
    "        # Recur for all the vertices adjacent to this vertex \n",
    "        for i in self.graph[v]: \n",
    "            if visited[i] == False: \n",
    "                self.topologicalSortUtil(i,visited,stack) \n",
    "  \n",
    "        # Push current vertex to stack which stores result\n",
    "        # (2) one of the following two commands will give the \n",
    "   # correct topological \n",
    "        # sorting, the other reverses the order; \n",
    "        # which is which and why?\n",
    "        # (a) stack.insert(len(stack),v)\n",
    "        # (b) stack.insert(0,v) \n",
    "  \n",
    "    # The function to do Topological Sort. It uses recursive  \n",
    "    # topologicalSortUtil() \n",
    "    def topologicalSort(self): \n",
    "        # Mark all the vertices as not visited \n",
    "        # (3) what should visited be defined a to create a list\n",
    " \t   # of length vertices of False values, indicating no nodes\n",
    "        # have yet been reached?\n",
    "        visited = [False] * # TODO \n",
    "        stack =[] \n",
    "  \n",
    "        # Call the recursive helper function to store Topological \n",
    "        # Sort starting from all vertices one by one \n",
    "\n",
    "        # (4) what should the argument to the range function be \n",
    "        # to ensure you iterate over all vertices in the graph?\n",
    "        for i in range('''TODO'''): \n",
    "            if visited[i] == False: \n",
    "                self.topologicalSortUtil(i,visited,stack) \n",
    "  \n",
    "        # Print contents of the stack \n",
    "        print(stack) \n",
    "        \n",
    "# example call\n",
    "g = Graph(6) \n",
    "g.addEdge(5, 2); \n",
    "g.addEdge(5, 0); \n",
    "g.addEdge(4, 0); \n",
    "g.addEdge(4, 1); \n",
    "g.addEdge(2, 3); \n",
    "g.addEdge(3, 1); \n",
    "  \n",
    "print(\"Following is a Topological Sort of the given graph\")\n",
    "g.topologicalSort() "
   ]
  }
 ],
 "metadata": {
  "kernelspec": {
   "display_name": "Python 3",
   "language": "python",
   "name": "python3"
  },
  "language_info": {
   "codemirror_mode": {
    "name": "ipython",
    "version": 3
   },
   "file_extension": ".py",
   "mimetype": "text/x-python",
   "name": "python",
   "nbconvert_exporter": "python",
   "pygments_lexer": "ipython3",
   "version": "3.6.8"
  }
 },
 "nbformat": 4,
 "nbformat_minor": 2
}
