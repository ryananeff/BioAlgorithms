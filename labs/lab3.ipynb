{
 "cells": [
  {
   "cell_type": "markdown",
   "metadata": {
    "collapsed": true
   },
   "source": [
    "###\n",
    "# Lab 3: Linked Lists and Sorting \n",
    "###"
   ]
  },
  {
   "cell_type": "code",
   "execution_count": 5,
   "metadata": {},
   "outputs": [
    {
     "name": "stdout",
     "output_type": "stream",
     "text": [
      "[7, 5]\n"
     ]
    }
   ],
   "source": [
    "'''\n",
    "Problem 1: Naive peak finding.\n",
    "In class we discussed an algorithm to return a peak in a 1d array. Implement a function naive_peak_1d() that takes an \n",
    "array and returns a peak.\n",
    "'''\n",
    "a = [6, 7, 4, 3, 2, 1, 4, 5]\n",
    "\n",
    "# TO DO\n",
    "# def naive_peak_1d(a)\n",
    "def naive_peak_1d(a):\n",
    "    peaks = []\n",
    "    if a[1] < a[0]:\n",
    "        peaks.append(a[0])\n",
    "    for ix in range(1,len(a)-1):\n",
    "        if (a[ix-1] < a[ix]) & (a[ix+1] < a[ix]):\n",
    "            peaks.append(a[ix])\n",
    "    if a[len(a)-1] > a[len(a)-2]:\n",
    "        peaks.append(a[len(a)-1])\n",
    "    return peaks\n",
    "\n",
    "print(naive_peak_1d(a))\n"
   ]
  },
  {
   "cell_type": "code",
   "execution_count": 9,
   "metadata": {},
   "outputs": [
    {
     "data": {
      "text/plain": [
       "202594"
      ]
     },
     "execution_count": 9,
     "metadata": {},
     "output_type": "execute_result"
    }
   ],
   "source": [
    "'''\n",
    "Problem 2:\n",
    "Rosalind: Insertion Sort\n",
    "http://rosalind.info/classes/581/\n",
    "\n",
    "Translate the following pseudocode into python and verify its performance on the downloaded file 'rosalind_ins.txt'\n",
    "\n",
    "insertion_sort(A[1..n])\n",
    "    for i <- 2 to n do\n",
    "        k <- i\n",
    "        while k > 1 and A[k] < A[k-1]\n",
    "            SWAP(A[k-1], A[k])\n",
    "            k <- k -1\n",
    "\n",
    "Input: A string A of integers separated by spaces, e.g. A = '-323 2 32 ... 3'\n",
    "\n",
    "Output: The number of times the swap operation was performed (hint: this will require modifying the pseudocode a little bit) \n",
    "and (optionally) the sorted array.\n",
    "\n",
    "'''\n",
    "# free parsing function\n",
    "import numpy as np\n",
    "with open('rosalind_ins.txt', 'r') as f:\n",
    "    f.readline() # skips the line indicating number of entries\n",
    "    A = np.array([int(x) for x in f.readline().strip().split(' ')])\n",
    "    # f.readline() = '-323 2 32 ... 3\\n'\n",
    "    # f.readline().strip() = '-323 2 32 ... 3'\n",
    "    # f.readline().strip().split(' ') = ['-323', '2', '32', ... '3']\n",
    "    \n",
    "    \n",
    "# TO DO\n",
    "def insertion_sort(A):\n",
    "    count = 0\n",
    "    for i in range(1,len(A)):\n",
    "        k = i\n",
    "        while k > 0 and A[k] < A[k-1]:\n",
    "            A[k-1],A[k] = A[k],A[k-1] #pass by value\n",
    "            k -= 1\n",
    "            count += 1\n",
    "    return count\n",
    "            \n",
    "\n",
    "insertion_sort(A)\n"
   ]
  },
  {
   "cell_type": "code",
   "execution_count": 19,
   "metadata": {},
   "outputs": [
    {
     "ename": "ValueError",
     "evalue": "setting an array element with a sequence.",
     "output_type": "error",
     "traceback": [
      "\u001b[0;31m---------------------------------------------------------------------------\u001b[0m",
      "\u001b[0;31mValueError\u001b[0m                                Traceback (most recent call last)",
      "\u001b[0;32m<ipython-input-19-c9daca32229e>\u001b[0m in \u001b[0;36m<module>\u001b[0;34m()\u001b[0m\n\u001b[1;32m     83\u001b[0m     \u001b[0mdata\u001b[0m\u001b[0;34m.\u001b[0m\u001b[0mappend\u001b[0m\u001b[0;34m(\u001b[0m\u001b[0mtest_n\u001b[0m\u001b[0;34m(\u001b[0m\u001b[0mn\u001b[0m\u001b[0;34m)\u001b[0m\u001b[0;34m)\u001b[0m\u001b[0;34m\u001b[0m\u001b[0;34m\u001b[0m\u001b[0m\n\u001b[1;32m     84\u001b[0m     \u001b[0mn\u001b[0m \u001b[0;34m=\u001b[0m \u001b[0mn\u001b[0m \u001b[0;34m*\u001b[0m \u001b[0;36m2\u001b[0m\u001b[0;34m\u001b[0m\u001b[0;34m\u001b[0m\u001b[0m\n\u001b[0;32m---> 85\u001b[0;31m \u001b[0mdata\u001b[0m \u001b[0;34m=\u001b[0m \u001b[0mnp\u001b[0m\u001b[0;34m.\u001b[0m\u001b[0mlog\u001b[0m\u001b[0;34m(\u001b[0m\u001b[0mnp\u001b[0m\u001b[0;34m.\u001b[0m\u001b[0marray\u001b[0m\u001b[0;34m(\u001b[0m\u001b[0mdata\u001b[0m\u001b[0;34m)\u001b[0m\u001b[0;34m)\u001b[0m\u001b[0;34m\u001b[0m\u001b[0;34m\u001b[0m\u001b[0m\n\u001b[0m\u001b[1;32m     86\u001b[0m \u001b[0;34m\u001b[0m\u001b[0m\n\u001b[1;32m     87\u001b[0m \u001b[0mn_data\u001b[0m \u001b[0;34m=\u001b[0m \u001b[0mdata\u001b[0m\u001b[0;34m[\u001b[0m\u001b[0;34m:\u001b[0m\u001b[0;34m,\u001b[0m\u001b[0;36m0\u001b[0m\u001b[0;34m]\u001b[0m\u001b[0;34m\u001b[0m\u001b[0;34m\u001b[0m\u001b[0m\n",
      "\u001b[0;31mValueError\u001b[0m: setting an array element with a sequence."
     ]
    }
   ],
   "source": [
    "'''\n",
    "Problem 3. Comparing insertion and selection sorts\n",
    "(a) Using the array A = E X A M P L E draw traces for each outer loop iteration of insertion and selection sort.\n",
    "\n",
    "Insertion:\n",
    "E X A M P L E # after first loop i = 1\n",
    "A E X M P L E\n",
    "A E M X P L E\n",
    "A E M P X L E\n",
    "A E L M P X E\n",
    "A E E L M P X\n",
    "\n",
    "Selection:\n",
    "E X A M P L E # after first loop i = 0\n",
    "A X E M P L E\n",
    "A E X M P L E\n",
    "A E E M P L X\n",
    "A E E L P M X\n",
    "A E E L M P X\n",
    "A E E L M P X\n",
    "\n",
    "(b) If the input array is already sorted, what are the runtimes of selection and insertion sort? Which is faster?\n",
    "Selection is O(n^2)\n",
    "Insertion is O(n)\n",
    "\n",
    "(c) Describe the worst-case input array.\n",
    "\n",
    "Reverse sorted\n",
    "\n",
    "(d) What is the expected runtime of insertion sort on an array with only 3 unique values relative to the inputs in (b) and (c)? \n",
    "Note that an analytical formula is not expected (e.g. O(n^3/2)) but rather empirical demonstration is sufficient, i.e. conduct a \n",
    "doubling experiment (from n = 1 to n = 2048) and empirically graph on a log-log plot the runtimes as a function of problem size.\n",
    "- Create a function time_trial() that takes in an array as input and returns the time it takes for insertion sort to run on it.\n",
    "- Create a function test_n() that returns the runtimes for insertion_sort on best, mid case (defined as the 3 unique values array)\n",
    "and worst case arrays as a function of n (their length). This function should generate the arrays in the process.\n",
    "\n",
    "'''\n",
    "# selection\n",
    "def selection_sort(A):\n",
    "    for i in range(len(A)):\n",
    "        min_idx = i\n",
    "        # inner loop compares the current value to all remaining\n",
    "        # complexity and cost?\n",
    "        for j in range(i + 1, len(A)):\n",
    "            if A[min_idx] > A[j]:\n",
    "                min_idx = j\n",
    "\n",
    "        # work of exchange happens outside inner loop\n",
    "        # complexity and cost?\n",
    "        A[i], A[min_idx] = A[min_idx], A[i]\n",
    "    return A\n",
    "    \n",
    "# insertion - take from Rosalind above\n",
    "\n",
    "\n",
    "import time\n",
    "import numpy as np\n",
    "\n",
    "# TO DO\n",
    "def time_trial(a):\n",
    "    start = time.process_time()\n",
    "    selection_sort(a)\n",
    "    end = time.process_time()\n",
    "    return end - start\n",
    "\n",
    "# TO DO\n",
    "def test_n(n):\n",
    "    best = list(range(n))\n",
    "    best_case_time = time_trial(best)\n",
    "    \n",
    "    mid = list(np.random.randint(low = 0, high = 3, size = n))\n",
    "    mid_case_time = time_trial(mid)\n",
    "    \n",
    "    worst = best[::-1].copy()\n",
    "    worst_case_time = time_trial(worst)\n",
    "    return [n, best, mid, worst]\n",
    "    \n",
    "    \n",
    "n = 1\n",
    "n_max = 2049\n",
    "data = []\n",
    "while n < n_max:\n",
    "    data.append(test_n(n))\n",
    "    n = n * 2\n",
    "data = np.log(np.array(data))\n",
    "\n",
    "n_data = data[:,0]\n",
    "best_data = data[:,1]\n",
    "mid_data = data[:,2]\n",
    "worst_data = data[:,3]\n",
    "\n",
    "%matplotlib inline\n",
    "import matplotlib.pyplot as plt\n",
    "plt.figure(figsize=(6, 4))\n",
    "plt.scatter(n_data, best_data)\n",
    "plt.scatter(n_data, mid_data)\n",
    "plt.scatter(n_data, worst_data)\n"
   ]
  },
  {
   "cell_type": "code",
   "execution_count": 14,
   "metadata": {},
   "outputs": [
    {
     "data": {
      "text/plain": [
       "[9, 8, 7, 6, 5, 4, 3, 2, 1, 0]"
      ]
     },
     "execution_count": 14,
     "metadata": {},
     "output_type": "execute_result"
    }
   ],
   "source": [
    "list(range(10))[::-1].copy()"
   ]
  },
  {
   "cell_type": "code",
   "execution_count": 21,
   "metadata": {},
   "outputs": [
    {
     "data": {
      "text/plain": [
       "[]"
      ]
     },
     "execution_count": 21,
     "metadata": {},
     "output_type": "execute_result"
    }
   ],
   "source": [
    "list(range(1,0))"
   ]
  },
  {
   "cell_type": "code",
   "execution_count": 27,
   "metadata": {},
   "outputs": [
    {
     "data": {
      "text/plain": [
       "7089385792524144320"
      ]
     },
     "execution_count": 27,
     "metadata": {},
     "output_type": "execute_result"
    }
   ],
   "source": [
    "\"hey\".__hash__()"
   ]
  },
  {
   "cell_type": "code",
   "execution_count": null,
   "metadata": {
    "collapsed": true
   },
   "outputs": [],
   "source": [
    "'''\n",
    "Problem 4a: Linked List - the Node class\n",
    "Online-formulation of LinkedList (moderate) \n",
    "(a) Create a Node class with argument 'data' and has attributes 'initdata' (set to the argument initdata) \n",
    "and 'next' (set to None).\n",
    "(b) Define a method getData that returns data.\n",
    "(c) Define a method getNext that returns the pointer to the next node.\n",
    "(d) Define a method setData that sets the data attribute to newdata.\n",
    "(e) Define a method setNext that sets the next attribute to newnext (pointer to next node).\n",
    "'''\n",
    "# TO DO\n",
    "class Node:\n",
    "    def __init__(self,initdata):\n",
    "        self.data = initdata\n",
    "        self.next = None\n",
    "        \n",
    "    def getData(self):\n",
    "        return self.data\n",
    "    def getNext(self):\n",
    "        return self.next\n",
    "    def setData(self,newdata):\n",
    "        self.data = newdata\n",
    "    def setNext(self,newnext):\n",
    "        self.next = newnext\n",
    "    \n",
    "    def __repr__(self):\n",
    "        return \"<Node at {}, data={},next={}>\".format(self.__hash__(),self.data,self.next)\n",
    "    \n",
    "    def __str__(self):\n",
    "        return self.__repr__()\n",
    "    \n",
    "    def __eq__(self,other):\n",
    "        return self.__hash__() == other.__hash__()\n",
    "  \n",
    "        \n",
    "'''\n",
    "Problem 4b: Linked List - the LinkedList class\n",
    "Implement methods in the lLinkedClass class to \n",
    "(a) add: add a new node to the front of the linked list \n",
    "(b) size: return the number of linked list member nodes through a linear search of the list\n",
    "(c) get_index: return the pointer to the node in index position n, where n is supplied to the function.\n",
    "\n",
    "(d) remove_index: implement a method that removes an arbitrary linked list node from a supplied node index n.\n",
    "(e) enumerate_items: list all the data values of nodes in order in the list\n",
    "(f) remove_item: remove the first instance of particular data value (if it exists) \n",
    "(g) search: returns True or False if query item exists in the linked list or not\n",
    "'''\n",
    "# TO DO\n",
    "class LinkedList:\n",
    "    def __init__(self):\n",
    "        self.head = None\n",
    "    \n",
    "    def add(self,newitem):\n",
    "        tmp = self.head\n",
    "        newnode = Node(newitem)\n",
    "        self.head = newnode\n",
    "        self.head.next = tmp\n",
    "    \n",
    "    def get_index(self,pos):\n",
    "        node = self.head\n",
    "        for i in range(1,pos):\n",
    "            node = node.next\n",
    "        return node\n",
    "            \n",
    "    def size(self):\n",
    "        count = 0\n",
    "        node = self.head\n",
    "        if node != None:\n",
    "            count += 1\n",
    "            node = node.next\n",
    "        return count\n",
    "\n",
    "# tests; construct a lists\n",
    "mylist = LinkedList()\n",
    "mylist.add('BMI2005') # 0\n",
    "mylist.add('BMS') # 1\n",
    "mylist.add('Biostatistics') # 2\n",
    "mylist.add('RCR') # 3\n",
    "\n",
    "# example operations/methods on instance\n",
    "print('get size of list')\n",
    "print(mylist.size())\n",
    "print('get item in index 3')\n",
    "print(mylist.get_index(3))\n",
    "print('get item in index 8 (DNE)')\n",
    "mylist.get_index(8)\n",
    "print('enumerate all items')\n",
    "mylist.enumerate_items()\n",
    "print('search for item RCR')\n",
    "print(mylist.search('BMS'))\n",
    "print('remove RCR')\n",
    "mylist.remove_item('RCR')\n",
    "print('item removed')\n",
    "print('enumerate items again')\n",
    "mylist.enumerate_items()\n",
    "print('search for RCR; now gone')\n",
    "print(mylist.search('RCR'))\n",
    "print('remove index 1')\n",
    "mylist.remove_index(1)\n",
    "print('enumerate items')\n",
    "mylist.enumerate_items()"
   ]
  },
  {
   "cell_type": "code",
   "execution_count": 46,
   "metadata": {
    "collapsed": true
   },
   "outputs": [],
   "source": [
    "'''\n",
    "BONUS PROBLEM:\n",
    "Document Distance, dictionary approach\n",
    "Adapted from MIT OCW\n",
    "\n",
    "Input: Two document strings D_1 and D_2\n",
    "\n",
    "Output: Document distance d(D_1, D_2) defined as:\n",
    "\n",
    "Define U as the sorted array of all words found in both D_1 and D_2 i.e. the union of D_1 and D_2.\n",
    "The 'word count vector' A_1 of length |U| has positive integer entries in A_1[i] corresponding to the number of times word i \n",
    "appears in document 1.\n",
    "E.g. if D_1 = 'the cat' and D_2 = 'the dog' then U = ['cat', 'dog', 'the'] and A_1 = [1 0 1] and A_2 = [0 1 1]\n",
    "\n",
    "Define the document distance as the product of counts of shared words, i.e. \n",
    "d(D_1, D_2) = 1*0 + 0*1 + 1*1 = 1\n",
    "Normalizing for word count (otherwise longer documents would have higher scores)\n",
    "d'(D_1, D_2) = d(D_1, D_2) / ( |A_1| * |A_2| ) where |A_1| is the norm of vector A_1\n",
    "\n",
    "d'(D_1, D_2) = dot product of A_1 and A_2\n",
    "\n",
    "To make this more geometrically interpretable, we use np.arccos to take the inverse cosine\n",
    "- a dot product of 1 evaluates to arccos of 0 meaning perfect similarity\n",
    "- a dot product of 0 evaluates to arccos of 90 indicating orthogonality, or complete difference\n",
    "- note that arccos returns radians\n",
    "\n",
    "What is the runtime of your program in terms of D_1 and D_2?\n",
    "'''\n",
    "\n",
    "doc1 = 'Lorem ipsum dolor'\n",
    "doc2 = 'ipsum dolor sit amet'\n",
    "\n",
    "def get_sorted_words(doc):\n",
    "    doc = doc.lower()\n",
    "    words = doc.split(\" \")\n",
    "    return sorted(words)\n",
    "\n",
    "from collections import defaultdict\n",
    "\n",
    "def get_word_counts(words):\n",
    "    word_counts = defaultdict(int)\n",
    "    for word in words:\n",
    "        word_counts[word] += 1\n",
    "    return dict(word_counts)"
   ]
  },
  {
   "cell_type": "code",
   "execution_count": 56,
   "metadata": {},
   "outputs": [
    {
     "data": {
      "text/plain": [
       "0.57735026918962584"
      ]
     },
     "execution_count": 56,
     "metadata": {},
     "output_type": "execute_result"
    }
   ],
   "source": [
    "dd"
   ]
  },
  {
   "cell_type": "code",
   "execution_count": 57,
   "metadata": {},
   "outputs": [
    {
     "name": "stdout",
     "output_type": "stream",
     "text": [
      "54.7356103172\n"
     ]
    }
   ],
   "source": [
    "import numpy as np\n",
    "\n",
    "doc1_word_counts = get_word_counts(get_sorted_words(doc1))\n",
    "doc2_word_counts = get_word_counts(get_sorted_words(doc2))\n",
    "\n",
    "total = 0\n",
    "for word in doc1_word_counts:\n",
    "    if word in doc2_word_counts:\n",
    "        total += doc1_word_counts[word] * doc2_word_counts[word]\n",
    "\n",
    "def norm(a):\n",
    "    tot = 0\n",
    "    for i in a:\n",
    "        tot += i**2\n",
    "    return np.sqrt(tot)\n",
    "\n",
    "doc1_norm = norm(list(doc1_word_counts.values()))\n",
    "doc2_norm = norm(list(doc2_word_counts.values()))\n",
    "\n",
    "dd = total / (doc1_norm*doc2_norm)\n",
    "print(np.arccos(dd)*180/np.pi)"
   ]
  },
  {
   "cell_type": "code",
   "execution_count": 48,
   "metadata": {},
   "outputs": [
    {
     "data": {
      "text/plain": [
       "1.7320508075688772"
      ]
     },
     "execution_count": 48,
     "metadata": {},
     "output_type": "execute_result"
    }
   ],
   "source": [
    "from numpy import linalg\n",
    "linalg.norm(np.array([1,1,1]))"
   ]
  },
  {
   "cell_type": "code",
   "execution_count": 47,
   "metadata": {},
   "outputs": [
    {
     "data": {
      "text/plain": [
       "{'dolor': 1, 'ipsum': 1, 'lorem': 1}"
      ]
     },
     "execution_count": 47,
     "metadata": {},
     "output_type": "execute_result"
    }
   ],
   "source": [
    "get_word_counts(get_sorted_words(doc1))"
   ]
  }
 ],
 "metadata": {
  "kernelspec": {
   "display_name": "Python 3",
   "language": "python",
   "name": "python3"
  },
  "language_info": {
   "codemirror_mode": {
    "name": "ipython",
    "version": 3
   },
   "file_extension": ".py",
   "mimetype": "text/x-python",
   "name": "python",
   "nbconvert_exporter": "python",
   "pygments_lexer": "ipython3",
   "version": "3.6.8"
  }
 },
 "nbformat": 4,
 "nbformat_minor": 2
}
