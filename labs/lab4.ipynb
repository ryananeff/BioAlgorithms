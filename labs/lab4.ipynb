{
 "cells": [
  {
   "cell_type": "code",
   "execution_count": null,
   "metadata": {
    "collapsed": true
   },
   "outputs": [],
   "source": [
    "###\n",
    "# Lab 4 - Merge Sort and Binary Search Trees\n",
    "###"
   ]
  },
  {
   "cell_type": "code",
   "execution_count": null,
   "metadata": {
    "collapsed": true
   },
   "outputs": [],
   "source": [
    "'''\n",
    "Rosalind Problem 5: Merge\n",
    "The merging procedure is an essential part of “Merge Sort” (which is considered in one of the next problems).\n",
    "\n",
    "Given: A positive integer n≤105 and a sorted array A[1..n] of integers from −105 to 105, a positive integer m≤105 \n",
    "and a sorted array B[1..m] of integers from −105 to 105.\n",
    "\n",
    "Return: A sorted array C[1..n+m] containing all the elements of A and B.\n",
    "\n",
    "Sample Dataset\n",
    "4\n",
    "2 4 10 18\n",
    "3\n",
    "-5 11 12\n",
    "'''\n",
    "import numpy as np\n",
    "\n",
    "with open('rosalind/rosalind_mer.txt','r') as f:\n",
    "    f.readline()\n",
    "    # f = ?\n",
    "    front = np.array([int(x) for x in f.readline().strip().split(' ')])\n",
    "    # f.readline() = '2 4 10 18\\n'\n",
    "    # f.readline().strip() = '2 4 10 18'\n",
    "    # f.readline().strip().split(' ') = ['2', '4', '10', '18']\n",
    "    # [int(x) for x in f.readline().strip().split(' ')] = [2, 4, 10, 18]\n",
    "    # np.array([int(x) for x in f.readline().strip().split(' ')]) = np.array([2., 4., 10., 18. ])\n",
    "    f.readline()\n",
    "    back = np.array([int(x) for x in f.readline().strip().split(' ')])\n",
    "\n",
    "def merge (front, back):\n",
    "    pos_f, pos_b = 0,0\n",
    "    merged = np.zeros(len(front)+len(back))\n",
    "    for i in range (len(merged)):\n",
    "        if pos_f == len(front):\n",
    "            merged[i] = back[pos_b]\n",
    "            pos_b += 1\n",
    "        elif pos_b == len(back):\n",
    "            merged[i] = front[pos_f]\n",
    "            pos_f += 1\n",
    "        elif front[pos_f] < back[pos_b]:\n",
    "            merged[i] = front[pos_f]\n",
    "            pos_f += 1\n",
    "        else:\n",
    "            merged[i] = back[pos_b]\n",
    "            pos_b += 1\n",
    "    return merged\n",
    "\n",
    "\n",
    "# merge(front,back) = np.array([2., 4., 10., 18. ])\n",
    "# list(merge(front,back)) = [2.0, 4.0, 10.0, 18.0]\n",
    "# [int(x) for x in list(merge(front,back))] = [2, 4, 10, 18]\n",
    "# map(str,[int(x) for x in list(merge(front,back))]) = ['2', '4', '10', '18']\n",
    "# ' '.join takes the items in the list and creates a single string with ' ' (space) separating them\n",
    "\n",
    "' '.join(map(str,[int(x) for x in list(merge(front,back))]))\n",
    "\n"
   ]
  },
  {
   "cell_type": "code",
   "execution_count": null,
   "metadata": {
    "collapsed": true
   },
   "outputs": [],
   "source": [
    "'''\n",
    "Rosalind Problem 6: Merge Sort\n",
    "The problem of sorting a list of numbers lends itself immediately to a divide-and-conquer strategy: \n",
    "split the list into two halves, recursively sort each half, and then merge the two sorted sublists \n",
    "(recall the problem “Merge Two Sorted Arrays”).\n",
    "\n",
    "Source: Algorithms by Dasgupta, Papadimitriou, Vazirani. McGraw-Hill. 2006.\n",
    "\n",
    "Given: A positive integer n≤105 and an array A[1..n] of integers from −105 to 105.\n",
    "\n",
    "Return: A sorted array A[1..n].\n",
    "\n",
    "Sample Dataset\n",
    "10\n",
    "20 19 35 -18 17 -20 20 1 4 4\n",
    "'''\n",
    "\n",
    "with open('rosalind/rosalind_ms.txt','r') as f:\n",
    "    f.readline()\n",
    "    A = np.array([int(x) for x in f.readline().strip().split(' ')])\n",
    "\n",
    "def merge_sort(A):\n",
    "    n = len(A)\n",
    "    \n",
    "    # base case\n",
    "    if n <= 1:\n",
    "        return A\n",
    "    \n",
    "    # what is bad here?\n",
    "    mid = n//2\n",
    "    \n",
    "    # python slice indexing of A: if A = [1, 2, 3, 4, 5]\n",
    "    # start index is inclusive, end index is exclusive\n",
    "    # A[0:2] = ?\n",
    "    # A[1:5] = ?\n",
    "    \n",
    "    front = merge_sort(A[0:mid])\n",
    "    back = merge_sort(A[mid:])\n",
    "    \n",
    "    return merge(front, back)\n",
    "\n",
    "' '.join(map(str,[int(x) for x in list(merge_sort(A))]))\n"
   ]
  },
  {
   "cell_type": "code",
   "execution_count": null,
   "metadata": {
    "collapsed": true
   },
   "outputs": [],
   "source": [
    "'''\n",
    "Exercise 1.\n",
    "Implementations of quick sort require a partition function that places one pivot item in its correct position \n",
    "before dividing the array into subarrays/subproblems. Here we investigate the performance of the partition function\n",
    "on some examples.\n",
    "\n",
    "'''\n",
    "\n",
    "def partition(A, lo, hi):\n",
    "    # v in the Sedgewick traces\n",
    "    pivotvalue = A[lo]\n",
    "\n",
    "    # i is from the left\n",
    "    # j is from the right\n",
    "    i = lo+1    \n",
    "    j = hi\n",
    "\n",
    "    done = False\n",
    "    while not done:\n",
    "        # (1) what does this part check for?\n",
    "        while i <= j and A[i] <= pivotvalue:\n",
    "            i = i + 1\n",
    "        \n",
    "        # (2) what does this part check for?\n",
    "        while A[j] >= pivotvalue and j >= i:\n",
    "            j = j - 1\n",
    "\n",
    "        # (3) why this condition? when would it be reached?\n",
    "        if j < i:\n",
    "            done = True\n",
    "\n",
    "        # (4) swap if ends have not overlapped\n",
    "        else:\n",
    "            A[i], A[j] = A[j], A[i]\n",
    "\n",
    "    # exchange pivot with right-most scan marker\n",
    "    A[lo], A[j] = A[j], A[lo]\n",
    "\n",
    "    return j, A\n",
    "\n",
    "'''\n",
    "(a) What happens (i.e. what is the value of i, j, and lo) when you partition \n",
    "when the pivot is the largest entry? What are the sizes of resulting sub arrays?\n",
    "A = [5 4 3 2 1]\n",
    "partition(A, 0, len(A)-1) \n",
    "i = ? \n",
    "j = ?\n",
    "\n",
    "(b) What about the smallest entry? What are the sizes of resulting sub arrays?\n",
    "A = [1 2 3 4 5]\n",
    "i = ?\n",
    "j = ?\n",
    "\n",
    "(c) What if all elements including the pivot are equal?\n",
    "A = [1 1 1 1 1]\n",
    "i = ?\n",
    "j = ?\n",
    "'''\n"
   ]
  },
  {
   "cell_type": "code",
   "execution_count": null,
   "metadata": {
    "collapsed": true
   },
   "outputs": [],
   "source": [
    "'''\n",
    "Rosalind Problem 7:\n",
    "Comparing the algorithms for sorting and “Median” finding we notice that, \n",
    "beyond the common divide-and-conquer philosophy and structure, they are exact opposites.\n",
    "“Merge Sort” splits the array in two in the most convenient way (first half, second half), \n",
    "without any regard to the magnitudes of the elements in each half; but then it works hard to \n",
    "put the sorted subarrays together. In contrast, the median algorithm is careful about its splitting \n",
    "(smaller numbers first, then the larger ones), but its work ends with the recursive call.\n",
    "\n",
    "Quick sort is a sorting algorithm that splits the array in exactly the same way as the median algorithm; \n",
    "and once the subarrays are sorted, by two recursive calls, there is nothing more to do. \n",
    "Its worst-case performance is Θ(n2), like that of median-finding. But it can be proved that its \n",
    "average case is O(nlogn); furthermore, empirically it outperforms other sorting algorithms. \n",
    "This has made quicksort a favorite in many applications— for instance, it is the basis of the code by \n",
    "which really enormous files are sorted.\n",
    "\n",
    "Source: Algorithms by Dasgupta, Papadimitriou, Vazirani. McGraw-Hill. 2006.\n",
    "\n",
    "Given: A positive integer n≤105 and an array A[1..n] of integers from −105 to 105.\n",
    "\n",
    "Return: A sorted array A[1..n].\n",
    "\n",
    "Sample Dataset\n",
    "7\n",
    "5 -2 4 7 8 -10 11\n",
    "\n",
    "Sample Output\n",
    "-10 -2 4 5 7 8 11\n",
    "'''\n",
    "\n",
    "with open('rosalind/rosalind_qs.txt','r') as f:\n",
    "    f.readline()\n",
    "    A = np.array([int(x) for x in f.readline().strip().split(' ')])\n",
    "\n",
    "def quick_sort(A, lo, hi):\n",
    "    if lo < hi:\n",
    "        # analogous to merge(), partition() is a magic function that performs all our dirty work on subarrays\n",
    "        splitpoint, A = partition(A, lo, hi)\n",
    "\n",
    "        # two recursive calls for each subproblem; note splitpoint (the pivot) itself is \n",
    "        # not included because it's already in the right place thanks to partition()\n",
    "        A = quick_sort(A, lo, splitpoint - 1)\n",
    "        A = quick_sort(A, splitpoint + 1, hi)    \n",
    "    return A\n",
    "\n",
    "' '.join(map(str,[int(x) for x in list(quick_sort(A,0,len(A)-1))]))\n",
    "\n",
    "\n",
    "\n"
   ]
  },
  {
   "cell_type": "code",
   "execution_count": null,
   "metadata": {
    "collapsed": true
   },
   "outputs": [],
   "source": [
    "'''\n",
    "Exercise 2.\n",
    "(a) What is the overall runtime of quicksort on an already sorted array? \n",
    "How many compares and how many exchanges are made? How might you avoid this case?\n",
    "\n",
    "(b) What is the runtime of quicksort on an array of n identical items? How many compares and how many exchanges?\n",
    "'''\n",
    "\n"
   ]
  },
  {
   "cell_type": "code",
   "execution_count": 48,
   "metadata": {},
   "outputs": [
    {
     "data": {
      "text/plain": [
       "[0, 0, 0, 0, 1, 1, 1, 1, 1]"
      ]
     },
     "execution_count": 48,
     "metadata": {},
     "output_type": "execute_result"
    }
   ],
   "source": [
    "'''\n",
    "Exercise 3.\n",
    "(a) Provide a function that sorts an array A[1...n] with only 0s and 1s.\n",
    "(b) What is the run time of your program? #O(n)\n",
    "'''\n",
    "\n",
    "def two_sort(A):\n",
    "    zeros = 0\n",
    "    ones = 0\n",
    "    for i in A:\n",
    "        if i == 0:\n",
    "            zeros += 1\n",
    "        elif i == 1:\n",
    "            ones += 1\n",
    "    A = [0] * (zeros) + [1] * (ones)\n",
    "    return A\n",
    "    \n",
    "A = [1, 0, 1, 1, 1, 0, 0, 1, 0]\n",
    "two_sort(A)"
   ]
  },
  {
   "cell_type": "code",
   "execution_count": 39,
   "metadata": {},
   "outputs": [],
   "source": [
    "import numpy as np\n",
    "testlist = np.random.randint(0,high=1,size=10000)"
   ]
  },
  {
   "cell_type": "code",
   "execution_count": 41,
   "metadata": {},
   "outputs": [
    {
     "name": "stdout",
     "output_type": "stream",
     "text": [
      "CPU times: user 2.25 ms, sys: 25 µs, total: 2.27 ms\n",
      "Wall time: 2.28 ms\n"
     ]
    }
   ],
   "source": [
    "%%time \n",
    "result = two_sort(testlist)"
   ]
  }
 ],
 "metadata": {
  "kernelspec": {
   "display_name": "Python 3",
   "language": "python",
   "name": "python3"
  },
  "language_info": {
   "codemirror_mode": {
    "name": "ipython",
    "version": 3
   },
   "file_extension": ".py",
   "mimetype": "text/x-python",
   "name": "python",
   "nbconvert_exporter": "python",
   "pygments_lexer": "ipython3",
   "version": "3.6.8"
  }
 },
 "nbformat": 4,
 "nbformat_minor": 2
}
