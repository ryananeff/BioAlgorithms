{
 "cells": [
  {
   "cell_type": "code",
   "execution_count": null,
   "metadata": {
    "collapsed": true
   },
   "outputs": [],
   "source": [
    "###\n",
    "# Lab 7: Graph Algorithms\n",
    "###"
   ]
  },
  {
   "cell_type": "code",
   "execution_count": null,
   "metadata": {
    "collapsed": true
   },
   "outputs": [],
   "source": [
    "'''\n",
    "AGENDA\n",
    "1. DFS and BFS\n",
    "2. DAG and Topological sort\n",
    "3. Dijkstra\n",
    "4. Bellman-Ford\n",
    "'''"
   ]
  },
  {
   "cell_type": "code",
   "execution_count": null,
   "metadata": {
    "collapsed": true
   },
   "outputs": [],
   "source": [
    "graph_adj = {\n",
    "    'a': ['b','e'],\n",
    "    'e': ['a'],\n",
    "    'b': ['a', 'f'],\n",
    "    'f': ['c', 'g'],\n",
    "    'c': ['f', 'g', 'd'],\n",
    "    'd': ['c', 'g', 'h'],\n",
    "    'g': ['f', 'c', 'd', 'h'],\n",
    "    'h': ['g', 'd']    \n",
    "}\n",
    "\n",
    "def BFS(Adj, start):\n",
    "    nodes = []\n",
    "    level = {start: 0} # dictionary\n",
    "    parent = {start: None} # dictionary\n",
    "    i = 1\n",
    "    frontier = [start] # list\n",
    "    while frontier: # O(|V|) built from O(|V_n|) i.e. per level; if frontier empty set, we are done\n",
    "        next_items = []\t # list\n",
    "        for u in frontier: \n",
    "            # if u is key, set found = True\n",
    "            for v in Adj[u]: # O(|E|) built from #O(|E_v|); adjacency list/hash of linked lists\n",
    "                if v not in level: # ensure we haven’t seen this before, dictionary search!\n",
    "                    level[v] = i # dictionary append\n",
    "                    parent[v] = u # dictionary append\n",
    "                    next_items.append(v) # list append\n",
    "                    nodes.append(v) # check if key = v\n",
    "        frontier = next_items # next list, reset to []\n",
    "        i = i + 1\n",
    "    return nodes\n",
    "\n",
    "BFS(graph_adj, 'b')"
   ]
  },
  {
   "cell_type": "code",
   "execution_count": null,
   "metadata": {
    "collapsed": true
   },
   "outputs": [],
   "source": [
    "def DFSVisit(Adj, s, parent, nodes, stack):\n",
    "    print(s, stack)\n",
    "    stack.add(s)\n",
    "    for v in Adj[s]: # cumulative |V| vertices to check\n",
    "        if v in stack:\n",
    "            print('cycle found')\n",
    "        if v not in parent: # cumulative |E| edges to follow\n",
    "            parent[v] = s\n",
    "            DFSVisit(Adj, v, parent, nodes, stack)\n",
    "            nodes.append(v)    \n",
    "    stack.remove(s)\n",
    "    print(s, stack)\n",
    "    \n",
    "def DFS(Adj, start):\n",
    "    stack = set()\n",
    "    completed = {}\n",
    "    nodes = []\n",
    "    parent = {start: None}\n",
    "    DFSVisit(Adj, start, parent, nodes, stack)\n",
    "    return nodes\n",
    "\n",
    "#DFS(graph_adj, 'b')"
   ]
  },
  {
   "cell_type": "code",
   "execution_count": null,
   "metadata": {
    "collapsed": true
   },
   "outputs": [],
   "source": [
    "dcg_graph_adj = {\n",
    "    'a': ['e'],\n",
    "    'e': [],\n",
    "    'b': ['a', 'f'],\n",
    "    'f': ['c'],\n",
    "    'c': ['g', 'd'],\n",
    "    'd': ['g'],\n",
    "    'g': ['h', 'f'],\n",
    "    'h': ['d']    \n",
    "}\n",
    "DFS(dcg_graph_adj, 'b')\n"
   ]
  },
  {
   "cell_type": "code",
   "execution_count": null,
   "metadata": {
    "collapsed": true
   },
   "outputs": [],
   "source": [
    "dag_graph_adj = {\n",
    "    'a': ['e'],\n",
    "    'e': [],\n",
    "    'b': ['a', 'f'],\n",
    "    'f': ['c', 'g'],\n",
    "    'c': ['g', 'd'],\n",
    "    'd': [],\n",
    "    'g': ['h'],\n",
    "    'h': ['d']    \n",
    "}\n",
    "DFS(dag_graph_adj, 'b')"
   ]
  },
  {
   "cell_type": "code",
   "execution_count": null,
   "metadata": {
    "collapsed": true
   },
   "outputs": [],
   "source": [
    "'''\n",
    "Dijkstra (G, W, s) \n",
    "    Initialize (G, s)\n",
    "    S = set()\n",
    "    Q = priorityQueue(G) // load graph into priority queue Q\n",
    "    while Q != None:\n",
    "        u = EXTRACT-MIN(Q) // deletes u from Q\n",
    "        S.add(u)\n",
    "        for each vertex v in Adj[u]:\n",
    "            RELAX (u, v, w)\n",
    "\n",
    "'''\n",
    "# F(V,E)\n",
    "# V inserts into queue\n",
    "# V extract-min operations\n",
    "# E decrease key in heap (RELAX has a 'decrease key value embedded in it')\n",
    "\n",
    "# Array impl:\n",
    "# V time for extra min\n",
    "# O(1) for decrease key\n",
    "# Total: V + V**2 + E*O(1) = V^2 + E\n",
    "\n",
    "# Binary min-heap:\n",
    "# Θ(lg V) for extract min\n",
    "# Θ(lg V) for decrease key\n",
    "# Total: VlgV + VlgV + E*lgV = 2VlgV + ElgV\n"
   ]
  },
  {
   "cell_type": "code",
   "execution_count": null,
   "metadata": {
    "collapsed": true
   },
   "outputs": [],
   "source": [
    "'''\n",
    "Bellman-Ford(G, W, s)\n",
    "    Initialize (G, s)\n",
    "    for i in range(0, len(V)-1):\n",
    "        for each edge (u, v) ∈ E:\n",
    "            RELAX(u, v, w)\n",
    "    for each edge (u, v) ∈ E\n",
    "        if d[v] > d[u] + w(u, v):\n",
    "            print('neg-weight cycle exists')\n",
    "            return False\n",
    "    return True\n",
    "'''\n"
   ]
  }
 ],
 "metadata": {
  "kernelspec": {
   "display_name": "Python 3",
   "language": "python",
   "name": "python3"
  },
  "language_info": {
   "codemirror_mode": {
    "name": "ipython",
    "version": 3
   },
   "file_extension": ".py",
   "mimetype": "text/x-python",
   "name": "python",
   "nbconvert_exporter": "python",
   "pygments_lexer": "ipython3",
   "version": "3.6.8"
  }
 },
 "nbformat": 4,
 "nbformat_minor": 2
}
